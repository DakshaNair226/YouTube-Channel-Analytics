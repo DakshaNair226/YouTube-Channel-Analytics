{
 "cells": [
  {
   "cell_type": "markdown",
   "source": "# YouTube Channel Analytics (Mr. Beast) &amp; Statistics",
   "metadata": {
    "tags": [],
    "is_collapsed": false,
    "cell_id": "00002-60e55e2c-508a-4697-93ad-3b3f65858099",
    "deepnote_cell_type": "text-cell-h1"
   }
  },
  {
   "cell_type": "markdown",
   "source": "### Installing library",
   "metadata": {
    "tags": [],
    "is_collapsed": false,
    "cell_id": "00001-7ff34048-7c4d-4c9d-aa03-ab19a6e9c417",
    "deepnote_cell_type": "text-cell-h3"
   }
  },
  {
   "cell_type": "code",
   "metadata": {
    "tags": [],
    "cell_id": "00000-54a6b591-7508-41ae-8724-53c1fea82717",
    "deepnote_to_be_reexecuted": false,
    "source_hash": "a9589b60",
    "execution_start": 1639639145035,
    "execution_millis": 9302,
    "deepnote_cell_type": "code"
   },
   "source": "!pip install --upgrade google-api-python-client google-auth-httplib2 google-auth-oauthlib",
   "execution_count": null,
   "outputs": [
    {
     "name": "stdout",
     "text": "Collecting google-api-python-client\n  Downloading google_api_python_client-2.33.0-py2.py3-none-any.whl (7.9 MB)\n\u001b[K     |████████████████████████████████| 7.9 MB 12.2 MB/s \n\u001b[?25hCollecting google-auth-httplib2\n  Downloading google_auth_httplib2-0.1.0-py2.py3-none-any.whl (9.3 kB)\nCollecting google-auth-oauthlib\n  Downloading google_auth_oauthlib-0.4.6-py2.py3-none-any.whl (18 kB)\nCollecting httplib2<1dev,>=0.15.0\n  Downloading httplib2-0.20.2-py3-none-any.whl (96 kB)\n\u001b[K     |████████████████████████████████| 96 kB 4.4 MB/s \n\u001b[?25hRequirement already satisfied: google-api-core<3.0.0dev,>=1.21.0 in /shared-libs/python3.9/py/lib/python3.9/site-packages (from google-api-python-client) (2.3.0)\nRequirement already satisfied: google-auth<3.0.0dev,>=1.16.0 in /shared-libs/python3.9/py/lib/python3.9/site-packages (from google-api-python-client) (2.3.3)\nCollecting uritemplate<5,>=3.0.0\n  Downloading uritemplate-4.1.1-py2.py3-none-any.whl (10 kB)\nRequirement already satisfied: six in /shared-libs/python3.9/py-core/lib/python3.9/site-packages (from google-auth-httplib2) (1.16.0)\nCollecting requests-oauthlib>=0.7.0\n  Downloading requests_oauthlib-1.3.0-py2.py3-none-any.whl (23 kB)\nRequirement already satisfied: protobuf>=3.12.0 in /shared-libs/python3.9/py/lib/python3.9/site-packages (from google-api-core<3.0.0dev,>=1.21.0->google-api-python-client) (3.19.1)\nRequirement already satisfied: requests<3.0.0dev,>=2.18.0 in /shared-libs/python3.9/py/lib/python3.9/site-packages (from google-api-core<3.0.0dev,>=1.21.0->google-api-python-client) (2.26.0)\nRequirement already satisfied: setuptools>=40.3.0 in /root/venv/lib/python3.9/site-packages (from google-api-core<3.0.0dev,>=1.21.0->google-api-python-client) (57.4.0)\nRequirement already satisfied: googleapis-common-protos<2.0dev,>=1.52.0 in /shared-libs/python3.9/py/lib/python3.9/site-packages (from google-api-core<3.0.0dev,>=1.21.0->google-api-python-client) (1.54.0)\nRequirement already satisfied: pyasn1-modules>=0.2.1 in /shared-libs/python3.9/py/lib/python3.9/site-packages (from google-auth<3.0.0dev,>=1.16.0->google-api-python-client) (0.2.8)\nRequirement already satisfied: rsa<5,>=3.1.4 in /shared-libs/python3.9/py/lib/python3.9/site-packages (from google-auth<3.0.0dev,>=1.16.0->google-api-python-client) (4.8)\nRequirement already satisfied: cachetools<5.0,>=2.0.0 in /shared-libs/python3.9/py/lib/python3.9/site-packages (from google-auth<3.0.0dev,>=1.16.0->google-api-python-client) (4.2.4)\nRequirement already satisfied: pyparsing!=3.0.0,!=3.0.1,!=3.0.2,!=3.0.3,<4,>=2.4.2 in /shared-libs/python3.9/py-core/lib/python3.9/site-packages (from httplib2<1dev,>=0.15.0->google-api-python-client) (3.0.6)\nRequirement already satisfied: pyasn1<0.5.0,>=0.4.6 in /shared-libs/python3.9/py/lib/python3.9/site-packages (from pyasn1-modules>=0.2.1->google-auth<3.0.0dev,>=1.16.0->google-api-python-client) (0.4.8)\nRequirement already satisfied: charset-normalizer~=2.0.0 in /shared-libs/python3.9/py-core/lib/python3.9/site-packages (from requests<3.0.0dev,>=2.18.0->google-api-core<3.0.0dev,>=1.21.0->google-api-python-client) (2.0.9)\nRequirement already satisfied: idna<4,>=2.5 in /shared-libs/python3.9/py-core/lib/python3.9/site-packages (from requests<3.0.0dev,>=2.18.0->google-api-core<3.0.0dev,>=1.21.0->google-api-python-client) (3.3)\nRequirement already satisfied: urllib3<1.27,>=1.21.1 in /shared-libs/python3.9/py/lib/python3.9/site-packages (from requests<3.0.0dev,>=2.18.0->google-api-core<3.0.0dev,>=1.21.0->google-api-python-client) (1.26.7)\nRequirement already satisfied: certifi>=2017.4.17 in /shared-libs/python3.9/py/lib/python3.9/site-packages (from requests<3.0.0dev,>=2.18.0->google-api-core<3.0.0dev,>=1.21.0->google-api-python-client) (2021.10.8)\nCollecting oauthlib>=3.0.0\n  Downloading oauthlib-3.1.1-py2.py3-none-any.whl (146 kB)\n\u001b[K     |████████████████████████████████| 146 kB 45.5 MB/s \n\u001b[?25hInstalling collected packages: oauthlib, httplib2, uritemplate, requests-oauthlib, google-auth-httplib2, google-auth-oauthlib, google-api-python-client\nSuccessfully installed google-api-python-client-2.33.0 google-auth-httplib2-0.1.0 google-auth-oauthlib-0.4.6 httplib2-0.20.2 oauthlib-3.1.1 requests-oauthlib-1.3.0 uritemplate-4.1.1\n\u001b[33mWARNING: You are using pip version 21.2.3; however, version 21.3.1 is available.\nYou should consider upgrading via the '/root/venv/bin/python -m pip install --upgrade pip' command.\u001b[0m\n",
     "output_type": "stream",
     "data": {}
    }
   ]
  },
  {
   "cell_type": "markdown",
   "source": "### Imports",
   "metadata": {
    "tags": [],
    "is_collapsed": false,
    "cell_id": "00004-545a93fc-6ace-439d-9168-4f94fe3d6332",
    "deepnote_cell_type": "text-cell-h3"
   }
  },
  {
   "cell_type": "code",
   "metadata": {
    "tags": [],
    "cell_id": "00000-98acb097-8b47-4994-8c68-e5f1bcd74dd2",
    "deepnote_to_be_reexecuted": false,
    "source_hash": "cde0697c",
    "execution_start": 1639639154349,
    "execution_millis": 5234,
    "deepnote_cell_type": "code"
   },
   "source": "from googleapiclient.discovery import build\nimport os\nimport pandas as pd\nimport seaborn as sns\nimport matplotlib.pyplot as plt",
   "execution_count": null,
   "outputs": []
  },
  {
   "cell_type": "markdown",
   "source": "### API Setup",
   "metadata": {
    "tags": [],
    "is_collapsed": false,
    "cell_id": "00005-0163fbdd-40c0-49f2-8141-b939892d70e7",
    "deepnote_cell_type": "text-cell-h3"
   }
  },
  {
   "cell_type": "code",
   "metadata": {
    "tags": [],
    "cell_id": "00001-dba1fd36-7438-427a-b01d-a3d65a047953",
    "deepnote_to_be_reexecuted": false,
    "source_hash": "15e88c3c",
    "execution_start": 1639639159692,
    "execution_millis": 46,
    "deepnote_cell_type": "code"
   },
   "source": "API_KEY = os.environ[\"API_KEY\"]\nchannel_id = \"UCX6OQ3DkcsbYNE6H8uQQuVA\"\nyoutube = build('youtube','v3',developerKey=API_KEY)",
   "execution_count": null,
   "outputs": []
  },
  {
   "cell_type": "markdown",
   "source": "### API Functions",
   "metadata": {
    "tags": [],
    "is_collapsed": false,
    "cell_id": "00007-3efa5e42-7795-4b8e-ab7c-41eaf5c80529",
    "deepnote_cell_type": "text-cell-h3"
   }
  },
  {
   "cell_type": "code",
   "metadata": {
    "tags": [],
    "cell_id": "00003-9f3fb321-179c-4fe1-97b0-1bb8001a471c",
    "deepnote_to_be_reexecuted": false,
    "source_hash": "32f14824",
    "execution_start": 1639639159740,
    "execution_millis": 2,
    "deepnote_cell_type": "code"
   },
   "source": "def get_channel_stats(youtube, channel_id):\n    request = youtube.channels().list(\n        part=\"snippet,contentDetails,statistics\",\n        id = channel_id \n    )\n    response = request.execute()\n\n    return response['items']",
   "execution_count": null,
   "outputs": []
  },
  {
   "cell_type": "code",
   "metadata": {
    "tags": [],
    "cell_id": "00004-c9e00c88-a26e-445a-b9b0-a6fe5ffdea17",
    "deepnote_to_be_reexecuted": false,
    "source_hash": "bff6f148",
    "execution_start": 1639639159773,
    "execution_millis": 31,
    "deepnote_cell_type": "code"
   },
   "source": "def get_video_list(youtube, upload_id):\n    video_list = []\n    request = youtube.playlistItems().list(\n        part=\"snippet,contentDetails\",\n        playlistId=upload_id,\n        maxResults=50\n    )\n    next_page = True\n\n    while next_page:\n        response = request.execute()\n        data = response['items']\n\n        for video in data:\n            video_id = video['contentDetails']['videoId']\n            if video_id not in video_list:\n                video_list.append(video_id)\n\n        if 'nextPageToken' in response.keys():\n            next_page = True\n            request = youtube.playlistItems().list(\n                part=\"snippet,contentDetails\",\n                playlistId=upload_id,\n                maxResults=50,\n                pageToken=response['nextPageToken']\n            )\n        else:\n            next_page = False\n\n    return video_list\n\n",
   "execution_count": null,
   "outputs": []
  },
  {
   "cell_type": "code",
   "metadata": {
    "tags": [],
    "cell_id": "00005-efce018b-506d-4960-b485-67bc9bf1f0e7",
    "deepnote_to_be_reexecuted": false,
    "source_hash": "b8b4bec2",
    "execution_start": 1639639159815,
    "execution_millis": 11,
    "deepnote_cell_type": "code"
   },
   "source": "def get_video_details(youtube, video_list):\n    stats_list=[]\n\n    # Can only get 50 videos at a time.\n    for i in range(0, len(video_list), 50):\n        request= youtube.videos().list(\n            part=\"snippet,contentDetails,statistics\",\n            id=video_list[i:i+50]\n        )\n\n        data = request.execute()\n        for video in data['items']:\n            title=video['snippet']['title']\n            published=video['snippet']['publishedAt']\n            description=video['snippet']['description']\n            tag_count= len(video['snippet'].get('tags',[]))\n            view_count=video['statistics'].get('viewCount',0)\n            like_count=video['statistics'].get('likeCount',0)\n            dislike_count=video['statistics'].get('dislikeCount',0)\n            comment_count=video['statistics'].get('commentCount',0)\n\n            stats_dict=dict(\n                title=title, \n                description=description, \n                published=published, \n                tag_count=tag_count, \n                view_count=view_count, \n                like_count=like_count, \n                dislike_count=dislike_count, \n                comment_count=comment_count\n            )\n           \n            stats_list.append(stats_dict)\n\n    return stats_list",
   "execution_count": null,
   "outputs": []
  },
  {
   "cell_type": "markdown",
   "source": "### Create channel stats",
   "metadata": {
    "tags": [],
    "is_collapsed": false,
    "cell_id": "00011-6a8fc76f-acc3-4744-b54e-b8657438aacb",
    "deepnote_cell_type": "text-cell-h3"
   }
  },
  {
   "cell_type": "code",
   "metadata": {
    "tags": [],
    "cell_id": "00004-5329fed8-eac0-4ba6-85c3-391e4fba1da2",
    "deepnote_to_be_reexecuted": false,
    "source_hash": "f956d739",
    "execution_start": 1639639159835,
    "execution_millis": 141,
    "deepnote_cell_type": "code"
   },
   "source": "channel_stats = get_channel_stats(youtube, channel_id)",
   "execution_count": null,
   "outputs": []
  },
  {
   "cell_type": "markdown",
   "source": "### Find upload playlist ( it contains list of all videos uploaded )",
   "metadata": {
    "tags": [],
    "is_collapsed": false,
    "cell_id": "00013-85276fe7-0fee-4243-90b3-e3f7da873395",
    "deepnote_cell_type": "text-cell-h3"
   }
  },
  {
   "cell_type": "code",
   "metadata": {
    "tags": [],
    "cell_id": "00005-b1eed985-8303-468d-8d06-1d00ae0b0841",
    "deepnote_to_be_reexecuted": false,
    "source_hash": "44449701",
    "execution_start": 1639639159990,
    "execution_millis": 23,
    "deepnote_output_heights": [
     21.1875
    ],
    "deepnote_cell_type": "code"
   },
   "source": "playlist_id = channel_stats[0]['contentDetails']['relatedPlaylists']['uploads']\nplaylist_id",
   "execution_count": null,
   "outputs": [
    {
     "output_type": "execute_result",
     "execution_count": 8,
     "data": {
      "text/plain": "'UUX6OQ3DkcsbYNE6H8uQQuVA'"
     },
     "metadata": {}
    }
   ]
  },
  {
   "cell_type": "markdown",
   "source": "### Get Video List",
   "metadata": {
    "tags": [],
    "is_collapsed": false,
    "cell_id": "00015-e341eea4-1ba8-4478-9c77-c7b3a9a9e9a7",
    "deepnote_cell_type": "text-cell-h3"
   }
  },
  {
   "cell_type": "code",
   "metadata": {
    "tags": [],
    "cell_id": "00007-0ef50186-fff4-41c2-946e-128f6a881148",
    "deepnote_to_be_reexecuted": false,
    "source_hash": "b189e0c4",
    "execution_start": 1639639160028,
    "execution_millis": 1304,
    "deepnote_output_heights": [
     386
    ],
    "deepnote_cell_type": "code"
   },
   "source": "video_list = get_video_list(youtube, playlist_id)",
   "execution_count": null,
   "outputs": []
  },
  {
   "cell_type": "code",
   "metadata": {
    "tags": [],
    "cell_id": "00008-6b0027cc-1925-4ea8-8b04-ca2c9c24758d",
    "deepnote_to_be_reexecuted": false,
    "source_hash": "a737c83c",
    "execution_start": 1639639161340,
    "execution_millis": 14,
    "deepnote_output_heights": [
     21.1875
    ],
    "deepnote_cell_type": "code"
   },
   "source": "len(video_list)",
   "execution_count": null,
   "outputs": [
    {
     "output_type": "execute_result",
     "execution_count": 10,
     "data": {
      "text/plain": "716"
     },
     "metadata": {}
    }
   ]
  },
  {
   "cell_type": "markdown",
   "source": "### Get Video details",
   "metadata": {
    "tags": [],
    "is_collapsed": false,
    "cell_id": "00018-52207701-1a85-4165-8da3-f9651b4474d3",
    "deepnote_cell_type": "text-cell-h3"
   }
  },
  {
   "cell_type": "code",
   "metadata": {
    "tags": [],
    "cell_id": "00010-17328afd-9834-4304-ac70-b05e8b997e8e",
    "deepnote_to_be_reexecuted": false,
    "source_hash": "8d88031b",
    "execution_start": 1639639161365,
    "execution_millis": 3961,
    "deepnote_cell_type": "code"
   },
   "source": "video_data = get_video_details(youtube, video_list)",
   "execution_count": null,
   "outputs": []
  },
  {
   "cell_type": "code",
   "metadata": {
    "tags": [],
    "cell_id": "00011-e009f777-346a-4cc0-9b84-871a3282bb1f",
    "deepnote_to_be_reexecuted": false,
    "source_hash": "1422a4d9",
    "execution_start": 1639639165340,
    "execution_millis": 30,
    "deepnote_output_heights": [
     155.59375
    ],
    "deepnote_cell_type": "code"
   },
   "source": "video_data[0]",
   "execution_count": null,
   "outputs": [
    {
     "output_type": "execute_result",
     "execution_count": 12,
     "data": {
      "text/plain": "{'title': 'I Got Hunted By The Military',\n 'description': 'I\\'m not sure how they drove over that... it wasnt supposed to happen\\nSign up using code \"BEASTHUNT\" with current! https://current.com/beasthunt\\n\\n\\nNew Merch - https://shopmrbeast.com/\\n\\nSUBSCRIBE OR I TAKE YOUR DOG\\n╔═╦╗╔╦╗╔═╦═╦╦╦╦╗╔═╗\\n║╚╣║║║╚╣╚╣╔╣╔╣║╚╣═╣ \\n╠╗║╚╝║║╠╗║╚╣║║║║║═╣\\n╚═╩══╩═╩═╩═╩╝╚╩═╩═╝\\n\\nCongrats to all the winners from the last video!\\n~babystar22\\n~KevinAllen30\\n~MasonCunningham2020\\n~CheyniaWilson\\n~Dannyboiiii08\\n~Andresiux23\\n~AmandaLawrence6\\n~DonshaeHannah\\n~KirstenTeafatiller\\n~UndeadWiccan\\n~BenjaminPaz\\n~TylerSmith98\\n~JoseRangel11\\n~StorieDaise\\n~AlexiaClark1462\\n~MattyRivers\\n~onlymarkis\\n~ThomasWebster00\\n~NoahTribbleking\\n~JHix87252\\n~AntSmith1996\\n~AnthonyNino3\\n~JordanMetz\\n~xonviejade\\n~CMcCabe23\\n~Vonnny\\n~ROITDABBY\\n~PaulMeehan430\\n~MaximusButenko\\n~MaximusButenko\\n~ZacharyArmstead\\n~HunterLeitch\\n~ThornTheriot\\n~AliMakki\\n~Quann99\\n~Trawjr\\n~JohnNovits\\n~MCCARVES\\n~KazzVaz\\n~JenniJones400\\n~RaeZapien\\n~MrJazzy\\n~SageDelahousie\\n\\n----------------------------------------------------------------\\nfollow all of these or i will kick you\\n• Facebook - https://www.facebook.com/MrBeast6000/\\n• Twitter - https://twitter.com/MrBeast\\n•  Instagram - https://www.instagram.com/mrbeast\\n--------------------------------------------------------------------',\n 'published': '2021-12-10T21:30:02Z',\n 'tag_count': 0,\n 'view_count': '37451638',\n 'like_count': '2259710',\n 'dislike_count': 0,\n 'comment_count': '87868'}"
     },
     "metadata": {}
    }
   ]
  },
  {
   "cell_type": "code",
   "metadata": {
    "tags": [],
    "cell_id": "00006-15e67bd3-3b21-41a2-8d2f-f51e44b777e1",
    "deepnote_to_be_reexecuted": false,
    "source_hash": "70b6da6a",
    "execution_start": 1639639165385,
    "execution_millis": 11,
    "deepnote_output_heights": [
     78.796875
    ],
    "deepnote_cell_type": "code"
   },
   "source": "channel_stats[0]['statistics']",
   "execution_count": null,
   "outputs": [
    {
     "output_type": "execute_result",
     "execution_count": 13,
     "data": {
      "text/plain": "{'viewCount': '13929031625',\n 'subscriberCount': '84900000',\n 'hiddenSubscriberCount': False,\n 'videoCount': '716'}"
     },
     "metadata": {}
    }
   ]
  },
  {
   "cell_type": "markdown",
   "source": "### Visualizations",
   "metadata": {
    "tags": [],
    "is_collapsed": false,
    "cell_id": "00022-400cb18b-acb9-4d48-ac0d-8d027fd5596d",
    "deepnote_cell_type": "text-cell-h3"
   }
  },
  {
   "cell_type": "code",
   "metadata": {
    "tags": [],
    "cell_id": "00013-1a70ac76-ee56-439d-94fa-94220db10091",
    "deepnote_to_be_reexecuted": false,
    "source_hash": "5a2e9bc7",
    "execution_start": 1639639165417,
    "execution_millis": 315,
    "deepnote_cell_type": "code"
   },
   "source": "df=pd.DataFrame(video_data)\n\ndf['title_length'] = df['title'].str.len()\ndf[\"view_count\"] = pd.to_numeric(df[\"view_count\"])\ndf[\"like_count\"] = pd.to_numeric(df[\"like_count\"])\ndf[\"dislike_count\"] = pd.to_numeric(df[\"dislike_count\"])\ndf[\"comment_count\"] = pd.to_numeric(df[\"comment_count\"])\n# reaction used later add up likes + dislikes + comments\ndf[\"reactions\"] = df[\"like_count\"] + df[\"dislike_count\"] + df[\"comment_count\"] + df[\"comment_count\"]\ndf.to_csv(\"MrBeast-Data.csv\")\ndf.head(10)",
   "execution_count": null,
   "outputs": [
    {
     "output_type": "execute_result",
     "execution_count": 14,
     "data": {
      "application/vnd.deepnote.dataframe.v3+json": {
       "column_count": 10,
       "row_count": 10,
       "columns": [
        {
         "name": "title",
         "dtype": "object",
         "stats": {
          "unique_count": 10,
          "nan_count": 0,
          "categories": [
           {
            "name": "I Got Hunted By The Military",
            "count": 1
           },
           {
            "name": "$456,000 Squid Game In Real Life!",
            "count": 1
           },
           {
            "name": "8 others",
            "count": 8
           }
          ]
         }
        },
        {
         "name": "description",
         "dtype": "object",
         "stats": {
          "unique_count": 10,
          "nan_count": 0,
          "categories": [
           {
            "name": "I'm not sure how they drove over that... it wasnt supposed to happen\nSign up using code \"BEASTHUNT\" with current! https://current.com/beasthunt\n\n\nNew Merch - https://shopmrbeast.com/\n\nSUBSCRIBE OR I TAKE YOUR DOG\n╔═╦╗╔╦╗╔═╦═╦╦╦╦╗╔═╗\n║╚╣║║║╚╣╚╣╔╣╔╣║╚╣═╣ \n╠╗║╚╝║║╠╗║╚╣║║║║║═╣\n╚═╩══╩═╩═╩═╩╝╚╩═╩═╝\n\nCongrats to all the winners from the last video!\n~babystar22\n~KevinAllen30\n~MasonCunningham2020\n~CheyniaWilson\n~Dannyboiiii08\n~Andresiux23\n~AmandaLawrence6\n~DonshaeHannah\n~KirstenTeafatiller\n~UndeadWiccan\n~BenjaminPaz\n~TylerSmith98\n~JoseRangel11\n~StorieDaise\n~AlexiaClark1462\n~MattyRivers\n~onlymarkis\n~ThomasWebster00\n~NoahTribbleking\n~JHix87252\n~AntSmith1996\n~AnthonyNino3\n~JordanMetz\n~xonviejade\n~CMcCabe23\n~Vonnny\n~ROITDABBY\n~PaulMeehan430\n~MaximusButenko\n~MaximusButenko\n~ZacharyArmstead\n~HunterLeitch\n~ThornTheriot\n~AliMakki\n~Quann99\n~Trawjr\n~JohnNovits\n~MCCARVES\n~KazzVaz\n~JenniJones400\n~RaeZapien\n~MrJazzy\n~SageDelahousie\n\n----------------------------------------------------------------\nfollow all of these or i will kick you\n• Facebook - https://www.facebook.com/MrBeast6000/\n• Twitter - https://twitter.com/MrBeast\n•  Instagram - https://www.instagram.com/mrbeast\n--------------------------------------------------------------------",
            "count": 1
           },
           {
            "name": "MAKE SURE YOU WATCH UNTIL GLASS BRIDGE IT'S INSANE!\nDownload Brawl Stars now and get a free gift from me in the game! http://supr.cl/mrbeast\n\n\nThank you GoPro for supplying us with cameras to get some of these shots. You can get them here: https://prf.hn/l/6bNbQB3\n\nShoutout to SOKRISPYMEDIA for helping with visuals!\n\n----------------------------------------------------------------\nfollow all of these or i will kick you\n• Facebook - https://www.facebook.com/MrBeast6000/\n• Twitter - https://twitter.com/MrBeast\n•  Instagram - https://www.instagram.com/mrbeast\n--------------------------------------------------------------------",
            "count": 1
           },
           {
            "name": "8 others",
            "count": 8
           }
          ]
         }
        },
        {
         "name": "published",
         "dtype": "object",
         "stats": {
          "unique_count": 10,
          "nan_count": 0,
          "categories": [
           {
            "name": "2021-12-10T21:30:02Z",
            "count": 1
           },
           {
            "name": "2021-11-24T21:00:01Z",
            "count": 1
           },
           {
            "name": "8 others",
            "count": 8
           }
          ]
         }
        },
        {
         "name": "tag_count",
         "dtype": "int64",
         "stats": {
          "unique_count": 1,
          "nan_count": 0,
          "min": "0",
          "max": "0",
          "histogram": [
           {
            "bin_start": -0.5,
            "bin_end": -0.4,
            "count": 0
           },
           {
            "bin_start": -0.4,
            "bin_end": -0.3,
            "count": 0
           },
           {
            "bin_start": -0.3,
            "bin_end": -0.19999999999999996,
            "count": 0
           },
           {
            "bin_start": -0.19999999999999996,
            "bin_end": -0.09999999999999998,
            "count": 0
           },
           {
            "bin_start": -0.09999999999999998,
            "bin_end": 0,
            "count": 0
           },
           {
            "bin_start": 0,
            "bin_end": 0.10000000000000009,
            "count": 10
           },
           {
            "bin_start": 0.10000000000000009,
            "bin_end": 0.20000000000000007,
            "count": 0
           },
           {
            "bin_start": 0.20000000000000007,
            "bin_end": 0.30000000000000004,
            "count": 0
           },
           {
            "bin_start": 0.30000000000000004,
            "bin_end": 0.4,
            "count": 0
           },
           {
            "bin_start": 0.4,
            "bin_end": 0.5,
            "count": 0
           }
          ]
         }
        },
        {
         "name": "view_count",
         "dtype": "int64",
         "stats": {
          "unique_count": 10,
          "nan_count": 0,
          "min": "37451638",
          "max": "169479533",
          "histogram": [
           {
            "bin_start": 37451638,
            "bin_end": 50654427.5,
            "count": 2
           },
           {
            "bin_start": 50654427.5,
            "bin_end": 63857217,
            "count": 5
           },
           {
            "bin_start": 63857217,
            "bin_end": 77060006.5,
            "count": 1
           },
           {
            "bin_start": 77060006.5,
            "bin_end": 90262796,
            "count": 0
           },
           {
            "bin_start": 90262796,
            "bin_end": 103465585.5,
            "count": 1
           },
           {
            "bin_start": 103465585.5,
            "bin_end": 116668375,
            "count": 0
           },
           {
            "bin_start": 116668375,
            "bin_end": 129871164.5,
            "count": 0
           },
           {
            "bin_start": 129871164.5,
            "bin_end": 143073954,
            "count": 0
           },
           {
            "bin_start": 143073954,
            "bin_end": 156276743.5,
            "count": 0
           },
           {
            "bin_start": 156276743.5,
            "bin_end": 169479533,
            "count": 1
           }
          ]
         }
        },
        {
         "name": "like_count",
         "dtype": "int64",
         "stats": {
          "unique_count": 10,
          "nan_count": 0,
          "min": "1980422",
          "max": "11967970",
          "histogram": [
           {
            "bin_start": 1980422,
            "bin_end": 2979176.8,
            "count": 7
           },
           {
            "bin_start": 2979176.8,
            "bin_end": 3977931.6,
            "count": 1
           },
           {
            "bin_start": 3977931.6,
            "bin_end": 4976686.4,
            "count": 1
           },
           {
            "bin_start": 4976686.4,
            "bin_end": 5975441.2,
            "count": 0
           },
           {
            "bin_start": 5975441.2,
            "bin_end": 6974196,
            "count": 0
           },
           {
            "bin_start": 6974196,
            "bin_end": 7972950.800000001,
            "count": 0
           },
           {
            "bin_start": 7972950.800000001,
            "bin_end": 8971705.600000001,
            "count": 0
           },
           {
            "bin_start": 8971705.600000001,
            "bin_end": 9970460.4,
            "count": 0
           },
           {
            "bin_start": 9970460.4,
            "bin_end": 10969215.200000001,
            "count": 0
           },
           {
            "bin_start": 10969215.200000001,
            "bin_end": 11967970,
            "count": 1
           }
          ]
         }
        },
        {
         "name": "dislike_count",
         "dtype": "int64",
         "stats": {
          "unique_count": 1,
          "nan_count": 0,
          "min": "0",
          "max": "0",
          "histogram": [
           {
            "bin_start": -0.5,
            "bin_end": -0.4,
            "count": 0
           },
           {
            "bin_start": -0.4,
            "bin_end": -0.3,
            "count": 0
           },
           {
            "bin_start": -0.3,
            "bin_end": -0.19999999999999996,
            "count": 0
           },
           {
            "bin_start": -0.19999999999999996,
            "bin_end": -0.09999999999999998,
            "count": 0
           },
           {
            "bin_start": -0.09999999999999998,
            "bin_end": 0,
            "count": 0
           },
           {
            "bin_start": 0,
            "bin_end": 0.10000000000000009,
            "count": 10
           },
           {
            "bin_start": 0.10000000000000009,
            "bin_end": 0.20000000000000007,
            "count": 0
           },
           {
            "bin_start": 0.20000000000000007,
            "bin_end": 0.30000000000000004,
            "count": 0
           },
           {
            "bin_start": 0.30000000000000004,
            "bin_end": 0.4,
            "count": 0
           },
           {
            "bin_start": 0.4,
            "bin_end": 0.5,
            "count": 0
           }
          ]
         }
        },
        {
         "name": "comment_count",
         "dtype": "int64",
         "stats": {
          "unique_count": 10,
          "nan_count": 0,
          "min": "67710",
          "max": "565682",
          "histogram": [
           {
            "bin_start": 67710,
            "bin_end": 117507.2,
            "count": 7
           },
           {
            "bin_start": 117507.2,
            "bin_end": 167304.4,
            "count": 1
           },
           {
            "bin_start": 167304.4,
            "bin_end": 217101.59999999998,
            "count": 1
           },
           {
            "bin_start": 217101.59999999998,
            "bin_end": 266898.8,
            "count": 0
           },
           {
            "bin_start": 266898.8,
            "bin_end": 316696,
            "count": 0
           },
           {
            "bin_start": 316696,
            "bin_end": 366493.19999999995,
            "count": 0
           },
           {
            "bin_start": 366493.19999999995,
            "bin_end": 416290.39999999997,
            "count": 0
           },
           {
            "bin_start": 416290.39999999997,
            "bin_end": 466087.6,
            "count": 0
           },
           {
            "bin_start": 466087.6,
            "bin_end": 515884.8,
            "count": 0
           },
           {
            "bin_start": 515884.8,
            "bin_end": 565682,
            "count": 1
           }
          ]
         }
        },
        {
         "name": "title_length",
         "dtype": "int64",
         "stats": {
          "unique_count": 10,
          "nan_count": 0,
          "min": "23",
          "max": "46",
          "histogram": [
           {
            "bin_start": 23,
            "bin_end": 25.3,
            "count": 1
           },
           {
            "bin_start": 25.3,
            "bin_end": 27.6,
            "count": 0
           },
           {
            "bin_start": 27.6,
            "bin_end": 29.9,
            "count": 2
           },
           {
            "bin_start": 29.9,
            "bin_end": 32.2,
            "count": 1
           },
           {
            "bin_start": 32.2,
            "bin_end": 34.5,
            "count": 2
           },
           {
            "bin_start": 34.5,
            "bin_end": 36.8,
            "count": 1
           },
           {
            "bin_start": 36.8,
            "bin_end": 39.099999999999994,
            "count": 0
           },
           {
            "bin_start": 39.099999999999994,
            "bin_end": 41.4,
            "count": 1
           },
           {
            "bin_start": 41.4,
            "bin_end": 43.7,
            "count": 1
           },
           {
            "bin_start": 43.7,
            "bin_end": 46,
            "count": 1
           }
          ]
         }
        },
        {
         "name": "reactions",
         "dtype": "int64",
         "stats": {
          "unique_count": 10,
          "nan_count": 0,
          "min": "2115842",
          "max": "13099334",
          "histogram": [
           {
            "bin_start": 2115842,
            "bin_end": 3214191.2,
            "count": 7
           },
           {
            "bin_start": 3214191.2,
            "bin_end": 4312540.4,
            "count": 1
           },
           {
            "bin_start": 4312540.4,
            "bin_end": 5410889.6,
            "count": 1
           },
           {
            "bin_start": 5410889.6,
            "bin_end": 6509238.8,
            "count": 0
           },
           {
            "bin_start": 6509238.8,
            "bin_end": 7607588,
            "count": 0
           },
           {
            "bin_start": 7607588,
            "bin_end": 8705937.2,
            "count": 0
           },
           {
            "bin_start": 8705937.2,
            "bin_end": 9804286.399999999,
            "count": 0
           },
           {
            "bin_start": 9804286.399999999,
            "bin_end": 10902635.6,
            "count": 0
           },
           {
            "bin_start": 10902635.6,
            "bin_end": 12000984.799999999,
            "count": 0
           },
           {
            "bin_start": 12000984.799999999,
            "bin_end": 13099334,
            "count": 1
           }
          ]
         }
        },
        {
         "name": "_deepnote_index_column",
         "dtype": "int64"
        }
       ],
       "rows": [
        {
         "title": "I Got Hunted By The Military",
         "description": "I'm not sure how they drove over that... it wasnt supposed to happen\nSign up using code \"BEASTHUNT\"…",
         "published": "2021-12-10T21:30:02Z",
         "tag_count": 0,
         "view_count": 37451638,
         "like_count": 2259710,
         "dislike_count": 0,
         "comment_count": 87868,
         "title_length": 28,
         "reactions": 2435446,
         "_deepnote_index_column": 0
        },
        {
         "title": "$456,000 Squid Game In Real Life!",
         "description": "MAKE SURE YOU WATCH UNTIL GLASS BRIDGE IT'S INSANE!\nDownload Brawl Stars now and get a free gift fr…",
         "published": "2021-11-24T21:00:01Z",
         "tag_count": 0,
         "view_count": 169479533,
         "like_count": 11967970,
         "dislike_count": 0,
         "comment_count": 565682,
         "title_length": 33,
         "reactions": 13099334,
         "_deepnote_index_column": 1
        },
        {
         "title": "I Cleaned The World’s Dirtiest Beach #TeamSeas",
         "description": "$1 Donated = 1 Pound Of Trash Out Of The Ocean -  https://teamseas.org/\nHELP US REMOVE 30,000,000 P…",
         "published": "2021-10-29T19:59:43Z",
         "tag_count": 0,
         "view_count": 51800966,
         "like_count": 4106358,
         "dislike_count": 0,
         "comment_count": 177236,
         "title_length": 46,
         "reactions": 4460830,
         "_deepnote_index_column": 2
        },
        {
         "title": "Last To Take Hand Off Lamborghini, Keeps It",
         "description": "Subscribe if you want to compete!\nWatch My Documentary Now On Curiosity: \nhttp://curiositystream.co…",
         "published": "2021-10-23T20:00:01Z",
         "tag_count": 0,
         "view_count": 51412216,
         "like_count": 2607250,
         "dislike_count": 0,
         "comment_count": 115992,
         "title_length": 43,
         "reactions": 2839234,
         "_deepnote_index_column": 3
        },
        {
         "title": "First To Rob Bank Wins $100,000",
         "description": "I didnt think he would actually rob the bank...\nSign up for Current and use my code “BEASTBANK” to …",
         "published": "2021-09-26T20:00:06Z",
         "tag_count": 0,
         "view_count": 48602623,
         "like_count": 2331918,
         "dislike_count": 0,
         "comment_count": 120266,
         "title_length": 31,
         "reactions": 2572450,
         "_deepnote_index_column": 4
        },
        {
         "title": "Extreme $500,000 Game Of Tag!",
         "description": "I did not expect that to happen at the end...\nNew Merch - https://shopmrbeast.com/\n\nSUBSCRIBE OR I …",
         "published": "2021-09-04T20:00:07Z",
         "tag_count": 0,
         "view_count": 56505400,
         "like_count": 2751231,
         "dislike_count": 0,
         "comment_count": 99382,
         "title_length": 29,
         "reactions": 2949995,
         "_deepnote_index_column": 5
        },
        {
         "title": "Last To Leave Circle Wins $500,000",
         "description": "THIS WAS THE CRAZIEST THING IVE EVER DONE!\nGet $10 of Bitcoin when you join Coinbase using my code:…",
         "published": "2021-08-31T20:01:03Z",
         "tag_count": 0,
         "view_count": 92368613,
         "like_count": 3433729,
         "dislike_count": 0,
         "comment_count": 94117,
         "title_length": 34,
         "reactions": 3621963,
         "_deepnote_index_column": 6
        },
        {
         "title": "I Got Hunted By The FBI",
         "description": "You guys loved the bounty hunter video so we did it with the FBI, i hope you enjoy!\nGet $5 on Venmo…",
         "published": "2021-08-07T23:00:03Z",
         "tag_count": 0,
         "view_count": 70978783,
         "like_count": 2539948,
         "dislike_count": 0,
         "comment_count": 88883,
         "title_length": 23,
         "reactions": 2717714,
         "_deepnote_index_column": 7
        },
        {
         "title": "If You Can Carry $1,000,000 You Keep It!",
         "description": "Exclusive Merch Here - https://shopmrbeast.com/\nYOU HAVE 7 DAYS TO BUY THIS SHIRT AND YOUR NAME WIL…",
         "published": "2021-07-24T20:00:59Z",
         "tag_count": 0,
         "view_count": 58110161,
         "like_count": 1980422,
         "dislike_count": 0,
         "comment_count": 67710,
         "title_length": 40,
         "reactions": 2115842,
         "_deepnote_index_column": 8
        },
        {
         "title": "Would YOU Quit School For $100,000?",
         "description": "You won’t believe what they chose!\nNew Merch - https://shopmrbeast.com/\n\nSUBSCRIBE OR I TAKE YOUR D…",
         "published": "2021-07-10T20:00:09Z",
         "tag_count": 0,
         "view_count": 54550760,
         "like_count": 1991612,
         "dislike_count": 0,
         "comment_count": 78710,
         "title_length": 35,
         "reactions": 2149032,
         "_deepnote_index_column": 9
        }
       ]
      },
      "text/plain": "                                            title  \\\n0                    I Got Hunted By The Military   \n1               $456,000 Squid Game In Real Life!   \n2  I Cleaned The World’s Dirtiest Beach #TeamSeas   \n3     Last To Take Hand Off Lamborghini, Keeps It   \n4                 First To Rob Bank Wins $100,000   \n5                   Extreme $500,000 Game Of Tag!   \n6              Last To Leave Circle Wins $500,000   \n7                         I Got Hunted By The FBI   \n8        If You Can Carry $1,000,000 You Keep It!   \n9             Would YOU Quit School For $100,000?   \n\n                                         description             published  \\\n0  I'm not sure how they drove over that... it wa...  2021-12-10T21:30:02Z   \n1  MAKE SURE YOU WATCH UNTIL GLASS BRIDGE IT'S IN...  2021-11-24T21:00:01Z   \n2  $1 Donated = 1 Pound Of Trash Out Of The Ocean...  2021-10-29T19:59:43Z   \n3  Subscribe if you want to compete!\\nWatch My Do...  2021-10-23T20:00:01Z   \n4  I didnt think he would actually rob the bank.....  2021-09-26T20:00:06Z   \n5  I did not expect that to happen at the end...\\...  2021-09-04T20:00:07Z   \n6  THIS WAS THE CRAZIEST THING IVE EVER DONE!\\nGe...  2021-08-31T20:01:03Z   \n7  You guys loved the bounty hunter video so we d...  2021-08-07T23:00:03Z   \n8  Exclusive Merch Here - https://shopmrbeast.com...  2021-07-24T20:00:59Z   \n9  You won’t believe what they chose!\\nNew Merch ...  2021-07-10T20:00:09Z   \n\n   tag_count  view_count  like_count  dislike_count  comment_count  \\\n0          0    37451638     2259710              0          87868   \n1          0   169479533    11967970              0         565682   \n2          0    51800966     4106358              0         177236   \n3          0    51412216     2607250              0         115992   \n4          0    48602623     2331918              0         120266   \n5          0    56505400     2751231              0          99382   \n6          0    92368613     3433729              0          94117   \n7          0    70978783     2539948              0          88883   \n8          0    58110161     1980422              0          67710   \n9          0    54550760     1991612              0          78710   \n\n   title_length  reactions  \n0            28    2435446  \n1            33   13099334  \n2            46    4460830  \n3            43    2839234  \n4            31    2572450  \n5            29    2949995  \n6            34    3621963  \n7            23    2717714  \n8            40    2115842  \n9            35    2149032  ",
      "text/html": "<div>\n<style scoped>\n    .dataframe tbody tr th:only-of-type {\n        vertical-align: middle;\n    }\n\n    .dataframe tbody tr th {\n        vertical-align: top;\n    }\n\n    .dataframe thead th {\n        text-align: right;\n    }\n</style>\n<table border=\"1\" class=\"dataframe\">\n  <thead>\n    <tr style=\"text-align: right;\">\n      <th></th>\n      <th>title</th>\n      <th>description</th>\n      <th>published</th>\n      <th>tag_count</th>\n      <th>view_count</th>\n      <th>like_count</th>\n      <th>dislike_count</th>\n      <th>comment_count</th>\n      <th>title_length</th>\n      <th>reactions</th>\n    </tr>\n  </thead>\n  <tbody>\n    <tr>\n      <th>0</th>\n      <td>I Got Hunted By The Military</td>\n      <td>I'm not sure how they drove over that... it wa...</td>\n      <td>2021-12-10T21:30:02Z</td>\n      <td>0</td>\n      <td>37451638</td>\n      <td>2259710</td>\n      <td>0</td>\n      <td>87868</td>\n      <td>28</td>\n      <td>2435446</td>\n    </tr>\n    <tr>\n      <th>1</th>\n      <td>$456,000 Squid Game In Real Life!</td>\n      <td>MAKE SURE YOU WATCH UNTIL GLASS BRIDGE IT'S IN...</td>\n      <td>2021-11-24T21:00:01Z</td>\n      <td>0</td>\n      <td>169479533</td>\n      <td>11967970</td>\n      <td>0</td>\n      <td>565682</td>\n      <td>33</td>\n      <td>13099334</td>\n    </tr>\n    <tr>\n      <th>2</th>\n      <td>I Cleaned The World’s Dirtiest Beach #TeamSeas</td>\n      <td>$1 Donated = 1 Pound Of Trash Out Of The Ocean...</td>\n      <td>2021-10-29T19:59:43Z</td>\n      <td>0</td>\n      <td>51800966</td>\n      <td>4106358</td>\n      <td>0</td>\n      <td>177236</td>\n      <td>46</td>\n      <td>4460830</td>\n    </tr>\n    <tr>\n      <th>3</th>\n      <td>Last To Take Hand Off Lamborghini, Keeps It</td>\n      <td>Subscribe if you want to compete!\\nWatch My Do...</td>\n      <td>2021-10-23T20:00:01Z</td>\n      <td>0</td>\n      <td>51412216</td>\n      <td>2607250</td>\n      <td>0</td>\n      <td>115992</td>\n      <td>43</td>\n      <td>2839234</td>\n    </tr>\n    <tr>\n      <th>4</th>\n      <td>First To Rob Bank Wins $100,000</td>\n      <td>I didnt think he would actually rob the bank.....</td>\n      <td>2021-09-26T20:00:06Z</td>\n      <td>0</td>\n      <td>48602623</td>\n      <td>2331918</td>\n      <td>0</td>\n      <td>120266</td>\n      <td>31</td>\n      <td>2572450</td>\n    </tr>\n    <tr>\n      <th>5</th>\n      <td>Extreme $500,000 Game Of Tag!</td>\n      <td>I did not expect that to happen at the end...\\...</td>\n      <td>2021-09-04T20:00:07Z</td>\n      <td>0</td>\n      <td>56505400</td>\n      <td>2751231</td>\n      <td>0</td>\n      <td>99382</td>\n      <td>29</td>\n      <td>2949995</td>\n    </tr>\n    <tr>\n      <th>6</th>\n      <td>Last To Leave Circle Wins $500,000</td>\n      <td>THIS WAS THE CRAZIEST THING IVE EVER DONE!\\nGe...</td>\n      <td>2021-08-31T20:01:03Z</td>\n      <td>0</td>\n      <td>92368613</td>\n      <td>3433729</td>\n      <td>0</td>\n      <td>94117</td>\n      <td>34</td>\n      <td>3621963</td>\n    </tr>\n    <tr>\n      <th>7</th>\n      <td>I Got Hunted By The FBI</td>\n      <td>You guys loved the bounty hunter video so we d...</td>\n      <td>2021-08-07T23:00:03Z</td>\n      <td>0</td>\n      <td>70978783</td>\n      <td>2539948</td>\n      <td>0</td>\n      <td>88883</td>\n      <td>23</td>\n      <td>2717714</td>\n    </tr>\n    <tr>\n      <th>8</th>\n      <td>If You Can Carry $1,000,000 You Keep It!</td>\n      <td>Exclusive Merch Here - https://shopmrbeast.com...</td>\n      <td>2021-07-24T20:00:59Z</td>\n      <td>0</td>\n      <td>58110161</td>\n      <td>1980422</td>\n      <td>0</td>\n      <td>67710</td>\n      <td>40</td>\n      <td>2115842</td>\n    </tr>\n    <tr>\n      <th>9</th>\n      <td>Would YOU Quit School For $100,000?</td>\n      <td>You won’t believe what they chose!\\nNew Merch ...</td>\n      <td>2021-07-10T20:00:09Z</td>\n      <td>0</td>\n      <td>54550760</td>\n      <td>1991612</td>\n      <td>0</td>\n      <td>78710</td>\n      <td>35</td>\n      <td>2149032</td>\n    </tr>\n  </tbody>\n</table>\n</div>"
     },
     "metadata": {}
    }
   ]
  },
  {
   "cell_type": "code",
   "metadata": {
    "tags": [],
    "cell_id": "00007-e041bbed-a479-4cf2-b135-35f1fa73210b",
    "deepnote_to_be_reexecuted": false,
    "source_hash": "398bab8b",
    "execution_start": 1639639165616,
    "execution_millis": 494,
    "deepnote_output_heights": [
     null,
     21.1875,
     264
    ],
    "deepnote_cell_type": "code"
   },
   "source": "# Histogram of tag count.\nchart = sns.distplot( a=df[\"tag_count\"], hist=True, kde=False, rug=False )\nchart.set(xlabel='Number of Tags Used', ylabel='Occurrences')",
   "execution_count": null,
   "outputs": [
    {
     "name": "stderr",
     "text": "/shared-libs/python3.9/py/lib/python3.9/site-packages/seaborn/distributions.py:2619: FutureWarning: `distplot` is a deprecated function and will be removed in a future version. Please adapt your code to use either `displot` (a figure-level function with similar flexibility) or `histplot` (an axes-level function for histograms).\n  warnings.warn(msg, FutureWarning)\n",
     "output_type": "stream",
     "data": {}
    },
    {
     "output_type": "execute_result",
     "execution_count": 15,
     "data": {
      "text/plain": "[Text(0.5, 0, 'Number of Tags Used'), Text(0, 0.5, 'Occurrences')]"
     },
     "metadata": {}
    },
    {
     "data": {
      "text/plain": "<Figure size 432x288 with 1 Axes>",
      "image/png": "[encoded data removed]"
     },
     "metadata": {
      "needs_background": "light",
      "image/png": {
       "width": 389,
       "height": 262
      }
     },
     "output_type": "display_data"
    }
   ]
  },
  {
   "cell_type": "code",
   "metadata": {
    "tags": [],
    "cell_id": "00015-595e6bd7-5785-4f55-b7cd-6023b594b1b1",
    "deepnote_to_be_reexecuted": false,
    "source_hash": "9c9d1cba",
    "execution_start": 1639639166119,
    "execution_millis": 486,
    "deepnote_output_heights": [
     21.1875,
     264
    ],
    "deepnote_cell_type": "code"
   },
   "source": "chart = sns.distplot( a=df[\"title_length\"], hist=True, kde=False, rug=False )\nchart.set(xlabel='Title Length', ylabel='Occurrences')",
   "execution_count": null,
   "outputs": [
    {
     "output_type": "execute_result",
     "execution_count": 16,
     "data": {
      "text/plain": "[Text(0.5, 0, 'Title Length'), Text(0, 0.5, 'Occurrences')]"
     },
     "metadata": {}
    },
    {
     "data": {
      "text/plain": "<Figure size 432x288 with 1 Axes>",
      "image/png": "[encoded data removed]"
     },
     "metadata": {
      "needs_background": "light",
      "image/png": {
       "width": 389,
       "height": 262
      }
     },
     "output_type": "display_data"
    }
   ]
  },
  {
   "cell_type": "code",
   "metadata": {
    "tags": [],
    "cell_id": "00016-a670e147-bed1-46bf-ad33-45424c3f01bc",
    "deepnote_to_be_reexecuted": false,
    "source_hash": "19de9f68",
    "execution_start": 1639639166614,
    "execution_millis": 161,
    "deepnote_cell_type": "code"
   },
   "source": "df_highest_views = df.nlargest(10, 'view_count')\ndf_highest_views['title'] = df_highest_views['title'].str[:40]\ndf_highest_views['view_count_millions'] = df_highest_views['view_count'] / 1000000\ndf_highest_views",
   "execution_count": null,
   "outputs": [
    {
     "output_type": "execute_result",
     "execution_count": 17,
     "data": {
      "application/vnd.deepnote.dataframe.v3+json": {
       "column_count": 11,
       "row_count": 10,
       "columns": [
        {
         "name": "title",
         "dtype": "object",
         "stats": {
          "unique_count": 10,
          "nan_count": 0,
          "categories": [
           {
            "name": "$456,000 Squid Game In Real Life!",
            "count": 1
           },
           {
            "name": "I Spent 50 Hours In Solitary Confinement",
            "count": 1
           },
           {
            "name": "8 others",
            "count": 8
           }
          ]
         }
        },
        {
         "name": "description",
         "dtype": "object",
         "stats": {
          "unique_count": 10,
          "nan_count": 0,
          "categories": [
           {
            "name": "MAKE SURE YOU WATCH UNTIL GLASS BRIDGE IT'S INSANE!\nDownload Brawl Stars now and get a free gift from me in the game! http://supr.cl/mrbeast\n\n\nThank you GoPro for supplying us with cameras to get some of these shots. You can get them here: https://prf.hn/l/6bNbQB3\n\nShoutout to SOKRISPYMEDIA for helping with visuals!\n\n----------------------------------------------------------------\nfollow all of these or i will kick you\n• Facebook - https://www.facebook.com/MrBeast6000/\n• Twitter - https://twitter.com/MrBeast\n•  Instagram - https://www.instagram.com/mrbeast\n--------------------------------------------------------------------",
            "count": 1
           },
           {
            "name": "i borderline went crazy about 30 hours in...\nNew Merch - https://shopmrbeast.com/\r\n\r\nSUBSCRIBE OR I TAKE YOUR DOG\r\n\r\n\r\n----------------------------------------------------------------\r\nfollow all of these or i will kick you\r\n• Facebook - https://www.facebook.com/MrBeast6000/\r\n• Twitter - https://twitter.com/MrBeast\n•  Instagram - https://www.instagram.com/mrbeast\r\n--------------------------------------------------------------------",
            "count": 1
           },
           {
            "name": "8 others",
            "count": 8
           }
          ]
         }
        },
        {
         "name": "published",
         "dtype": "object",
         "stats": {
          "unique_count": 10,
          "nan_count": 0,
          "categories": [
           {
            "name": "2021-11-24T21:00:01Z",
            "count": 1
           },
           {
            "name": "2020-05-30T20:10:08Z",
            "count": 1
           },
           {
            "name": "8 others",
            "count": 8
           }
          ]
         }
        },
        {
         "name": "tag_count",
         "dtype": "int64",
         "stats": {
          "unique_count": 1,
          "nan_count": 0,
          "min": "0",
          "max": "0",
          "histogram": [
           {
            "bin_start": -0.5,
            "bin_end": -0.4,
            "count": 0
           },
           {
            "bin_start": -0.4,
            "bin_end": -0.3,
            "count": 0
           },
           {
            "bin_start": -0.3,
            "bin_end": -0.19999999999999996,
            "count": 0
           },
           {
            "bin_start": -0.19999999999999996,
            "bin_end": -0.09999999999999998,
            "count": 0
           },
           {
            "bin_start": -0.09999999999999998,
            "bin_end": 0,
            "count": 0
           },
           {
            "bin_start": 0,
            "bin_end": 0.10000000000000009,
            "count": 10
           },
           {
            "bin_start": 0.10000000000000009,
            "bin_end": 0.20000000000000007,
            "count": 0
           },
           {
            "bin_start": 0.20000000000000007,
            "bin_end": 0.30000000000000004,
            "count": 0
           },
           {
            "bin_start": 0.30000000000000004,
            "bin_end": 0.4,
            "count": 0
           },
           {
            "bin_start": 0.4,
            "bin_end": 0.5,
            "count": 0
           }
          ]
         }
        },
        {
         "name": "view_count",
         "dtype": "int64",
         "stats": {
          "unique_count": 10,
          "nan_count": 0,
          "min": "118685688",
          "max": "169479533",
          "histogram": [
           {
            "bin_start": 118685688,
            "bin_end": 123765072.5,
            "count": 2
           },
           {
            "bin_start": 123765072.5,
            "bin_end": 128844457,
            "count": 1
           },
           {
            "bin_start": 128844457,
            "bin_end": 133923841.5,
            "count": 0
           },
           {
            "bin_start": 133923841.5,
            "bin_end": 139003226,
            "count": 1
           },
           {
            "bin_start": 139003226,
            "bin_end": 144082610.5,
            "count": 2
           },
           {
            "bin_start": 144082610.5,
            "bin_end": 149161995,
            "count": 0
           },
           {
            "bin_start": 149161995,
            "bin_end": 154241379.5,
            "count": 2
           },
           {
            "bin_start": 154241379.5,
            "bin_end": 159320764,
            "count": 1
           },
           {
            "bin_start": 159320764,
            "bin_end": 164400148.5,
            "count": 0
           },
           {
            "bin_start": 164400148.5,
            "bin_end": 169479533,
            "count": 1
           }
          ]
         }
        },
        {
         "name": "like_count",
         "dtype": "int64",
         "stats": {
          "unique_count": 10,
          "nan_count": 0,
          "min": "2294154",
          "max": "11967970",
          "histogram": [
           {
            "bin_start": 2294154,
            "bin_end": 3261535.6,
            "count": 5
           },
           {
            "bin_start": 3261535.6,
            "bin_end": 4228917.2,
            "count": 3
           },
           {
            "bin_start": 4228917.2,
            "bin_end": 5196298.8,
            "count": 0
           },
           {
            "bin_start": 5196298.8,
            "bin_end": 6163680.4,
            "count": 1
           },
           {
            "bin_start": 6163680.4,
            "bin_end": 7131062,
            "count": 0
           },
           {
            "bin_start": 7131062,
            "bin_end": 8098443.6,
            "count": 0
           },
           {
            "bin_start": 8098443.6,
            "bin_end": 9065825.2,
            "count": 0
           },
           {
            "bin_start": 9065825.2,
            "bin_end": 10033206.8,
            "count": 0
           },
           {
            "bin_start": 10033206.8,
            "bin_end": 11000588.4,
            "count": 0
           },
           {
            "bin_start": 11000588.4,
            "bin_end": 11967970,
            "count": 1
           }
          ]
         }
        },
        {
         "name": "dislike_count",
         "dtype": "int64",
         "stats": {
          "unique_count": 1,
          "nan_count": 0,
          "min": "0",
          "max": "0",
          "histogram": [
           {
            "bin_start": -0.5,
            "bin_end": -0.4,
            "count": 0
           },
           {
            "bin_start": -0.4,
            "bin_end": -0.3,
            "count": 0
           },
           {
            "bin_start": -0.3,
            "bin_end": -0.19999999999999996,
            "count": 0
           },
           {
            "bin_start": -0.19999999999999996,
            "bin_end": -0.09999999999999998,
            "count": 0
           },
           {
            "bin_start": -0.09999999999999998,
            "bin_end": 0,
            "count": 0
           },
           {
            "bin_start": 0,
            "bin_end": 0.10000000000000009,
            "count": 10
           },
           {
            "bin_start": 0.10000000000000009,
            "bin_end": 0.20000000000000007,
            "count": 0
           },
           {
            "bin_start": 0.20000000000000007,
            "bin_end": 0.30000000000000004,
            "count": 0
           },
           {
            "bin_start": 0.30000000000000004,
            "bin_end": 0.4,
            "count": 0
           },
           {
            "bin_start": 0.4,
            "bin_end": 0.5,
            "count": 0
           }
          ]
         }
        },
        {
         "name": "comment_count",
         "dtype": "int64",
         "stats": {
          "unique_count": 10,
          "nan_count": 0,
          "min": "83473",
          "max": "565682",
          "histogram": [
           {
            "bin_start": 83473,
            "bin_end": 131693.9,
            "count": 5
           },
           {
            "bin_start": 131693.9,
            "bin_end": 179914.8,
            "count": 2
           },
           {
            "bin_start": 179914.8,
            "bin_end": 228135.7,
            "count": 1
           },
           {
            "bin_start": 228135.7,
            "bin_end": 276356.6,
            "count": 1
           },
           {
            "bin_start": 276356.6,
            "bin_end": 324577.5,
            "count": 0
           },
           {
            "bin_start": 324577.5,
            "bin_end": 372798.4,
            "count": 0
           },
           {
            "bin_start": 372798.4,
            "bin_end": 421019.3,
            "count": 0
           },
           {
            "bin_start": 421019.3,
            "bin_end": 469240.2,
            "count": 0
           },
           {
            "bin_start": 469240.2,
            "bin_end": 517461.10000000003,
            "count": 0
           },
           {
            "bin_start": 517461.10000000003,
            "bin_end": 565682,
            "count": 1
           }
          ]
         }
        },
        {
         "name": "title_length",
         "dtype": "int64",
         "stats": {
          "unique_count": 9,
          "nan_count": 0,
          "min": "28",
          "max": "48",
          "histogram": [
           {
            "bin_start": 28,
            "bin_end": 30,
            "count": 2
           },
           {
            "bin_start": 30,
            "bin_end": 32,
            "count": 0
           },
           {
            "bin_start": 32,
            "bin_end": 34,
            "count": 1
           },
           {
            "bin_start": 34,
            "bin_end": 36,
            "count": 2
           },
           {
            "bin_start": 36,
            "bin_end": 38,
            "count": 0
           },
           {
            "bin_start": 38,
            "bin_end": 40,
            "count": 1
           },
           {
            "bin_start": 40,
            "bin_end": 42,
            "count": 1
           },
           {
            "bin_start": 42,
            "bin_end": 44,
            "count": 0
           },
           {
            "bin_start": 44,
            "bin_end": 46,
            "count": 1
           },
           {
            "bin_start": 46,
            "bin_end": 48,
            "count": 2
           }
          ]
         }
        },
        {
         "name": "reactions",
         "dtype": "int64",
         "stats": {
          "unique_count": 10,
          "nan_count": 0,
          "min": "2563694",
          "max": "13099334",
          "histogram": [
           {
            "bin_start": 2563694,
            "bin_end": 3617258,
            "count": 5
           },
           {
            "bin_start": 3617258,
            "bin_end": 4670822,
            "count": 3
           },
           {
            "bin_start": 4670822,
            "bin_end": 5724386,
            "count": 0
           },
           {
            "bin_start": 5724386,
            "bin_end": 6777950,
            "count": 1
           },
           {
            "bin_start": 6777950,
            "bin_end": 7831514,
            "count": 0
           },
           {
            "bin_start": 7831514,
            "bin_end": 8885078,
            "count": 0
           },
           {
            "bin_start": 8885078,
            "bin_end": 9938642,
            "count": 0
           },
           {
            "bin_start": 9938642,
            "bin_end": 10992206,
            "count": 0
           },
           {
            "bin_start": 10992206,
            "bin_end": 12045770,
            "count": 0
           },
           {
            "bin_start": 12045770,
            "bin_end": 13099334,
            "count": 1
           }
          ]
         }
        },
        {
         "name": "view_count_millions",
         "dtype": "float64",
         "stats": {
          "unique_count": 10,
          "nan_count": 0,
          "min": "118.685688",
          "max": "169.479533",
          "histogram": [
           {
            "bin_start": 118.685688,
            "bin_end": 123.7650725,
            "count": 2
           },
           {
            "bin_start": 123.7650725,
            "bin_end": 128.844457,
            "count": 1
           },
           {
            "bin_start": 128.844457,
            "bin_end": 133.9238415,
            "count": 0
           },
           {
            "bin_start": 133.9238415,
            "bin_end": 139.003226,
            "count": 1
           },
           {
            "bin_start": 139.003226,
            "bin_end": 144.0826105,
            "count": 2
           },
           {
            "bin_start": 144.0826105,
            "bin_end": 149.161995,
            "count": 0
           },
           {
            "bin_start": 149.161995,
            "bin_end": 154.2413795,
            "count": 2
           },
           {
            "bin_start": 154.2413795,
            "bin_end": 159.320764,
            "count": 1
           },
           {
            "bin_start": 159.320764,
            "bin_end": 164.4001485,
            "count": 0
           },
           {
            "bin_start": 164.4001485,
            "bin_end": 169.479533,
            "count": 1
           }
          ]
         }
        },
        {
         "name": "_deepnote_index_column",
         "dtype": "int64"
        }
       ],
       "rows": [
        {
         "title": "$456,000 Squid Game In Real Life!",
         "description": "MAKE SURE YOU WATCH UNTIL GLASS BRIDGE IT'S INSANE!\nDownload Brawl Stars now and get a free gift fr…",
         "published": "2021-11-24T21:00:01Z",
         "tag_count": 0,
         "view_count": 169479533,
         "like_count": 11967970,
         "dislike_count": 0,
         "comment_count": 565682,
         "title_length": 33,
         "reactions": 13099334,
         "view_count_millions": 169.479533,
         "_deepnote_index_column": 1
        },
        {
         "title": "I Spent 50 Hours In Solitary Confinement",
         "description": "i borderline went crazy about 30 hours in...\nNew Merch - https://shopmrbeast.com/\r\n\r\nSUBSCRIBE OR I…",
         "published": "2020-05-30T20:10:08Z",
         "tag_count": 0,
         "view_count": 157356279,
         "like_count": 3092167,
         "dislike_count": 0,
         "comment_count": 105889,
         "title_length": 40,
         "reactions": 3303945,
         "view_count_millions": 157.356279,
         "_deepnote_index_column": 48
        },
        {
         "title": "I Spent 50 Hours Buried Alive",
         "description": "This was the most insane thing I’ve ever done\nNew Merch - https://shopmrbeast.com/\n\nSUBSCRIBE OR I …",
         "published": "2021-03-27T20:00:04Z",
         "tag_count": 0,
         "view_count": 153117349,
         "like_count": 5354269,
         "dislike_count": 0,
         "comment_count": 233269,
         "title_length": 29,
         "reactions": 5820807,
         "view_count_millions": 153.117349,
         "_deepnote_index_column": 17
        },
        {
         "title": "I Put 100 Million Orbeez In My Friend's ",
         "description": "THIS WAS THE CRAZIEST THING WE HAVE EVER DONE LOL\n\nNew Merch - https://shopmrbeast.com/\n\nSUBSCRIBE …",
         "published": "2018-11-22T21:08:01Z",
         "tag_count": 0,
         "view_count": 150718046,
         "like_count": 3953907,
         "dislike_count": 0,
         "comment_count": 136295,
         "title_length": 48,
         "reactions": 4226497,
         "view_count_millions": 150.718046,
         "_deepnote_index_column": 143
        },
        {
         "title": "Press This Button To Win $100,000!",
         "description": "Push the red subscribe button and you could also win $100,000! (Seriously, we always fly subscriber…",
         "published": "2020-11-14T21:00:02Z",
         "tag_count": 0,
         "view_count": 143850164,
         "like_count": 2739765,
         "dislike_count": 0,
         "comment_count": 83473,
         "title_length": 34,
         "reactions": 2906711,
         "view_count_millions": 143.850164,
         "_deepnote_index_column": 28
        },
        {
         "title": "Anything You Can Fit In The Circle I’ll ",
         "description": "Watch until the end to see how much i spent\nNew Merch - https://shopmrbeast.com/\r\n\r\nSUBSCRIBE OR I …",
         "published": "2020-03-07T21:00:00Z",
         "tag_count": 0,
         "view_count": 143843986,
         "like_count": 3708169,
         "dislike_count": 0,
         "comment_count": 108555,
         "title_length": 47,
         "reactions": 3925279,
         "view_count_millions": 143.843986,
         "_deepnote_index_column": 57
        },
        {
         "title": "Going Through The Same Drive Thru 1,000 ",
         "description": "I can't believe we did this lol\n\nNew Merch - https://shopmrbeast.com/\n\nSUBSCRIBE OR I TAKE YOUR DOG…",
         "published": "2019-10-05T20:00:08Z",
         "tag_count": 0,
         "view_count": 137915561,
         "like_count": 3214323,
         "dislike_count": 0,
         "comment_count": 124502,
         "title_length": 45,
         "reactions": 3463327,
         "view_count_millions": 137.915561,
         "_deepnote_index_column": 82
        },
        {
         "title": "I Ate A $70,000 Golden Pizza",
         "description": "I cant believe we actually did this...\nPlease vote and help me win a Kids Choice Award (I'm on page…",
         "published": "2020-02-29T21:00:22Z",
         "tag_count": 0,
         "view_count": 126315096,
         "like_count": 2832228,
         "dislike_count": 0,
         "comment_count": 104237,
         "title_length": 28,
         "reactions": 3040702,
         "view_count_millions": 126.315096,
         "_deepnote_index_column": 58
        },
        {
         "title": "I Went Back To 1st Grade For A Day",
         "description": "me and the squad went back to first grade for fun\n\nLAST DAY TO BUY MERCH - https://shopmrbeast.com/…",
         "published": "2019-01-31T22:05:00Z",
         "tag_count": 0,
         "view_count": 118762603,
         "like_count": 2294154,
         "dislike_count": 0,
         "comment_count": 134770,
         "title_length": 34,
         "reactions": 2563694,
         "view_count_millions": 118.762603,
         "_deepnote_index_column": 124
        },
        {
         "title": "Last To Leave $800,000 Island Keeps It",
         "description": "I can't believe I gave away a private island. subscribe to help me pay for it\nDownload Lords Mobile…",
         "published": "2020-08-15T20:00:02Z",
         "tag_count": 0,
         "view_count": 118685688,
         "like_count": 3704624,
         "dislike_count": 0,
         "comment_count": 225751,
         "title_length": 38,
         "reactions": 4156126,
         "view_count_millions": 118.685688,
         "_deepnote_index_column": 39
        }
       ]
      },
      "text/plain": "                                        title  \\\n1           $456,000 Squid Game In Real Life!   \n48   I Spent 50 Hours In Solitary Confinement   \n17              I Spent 50 Hours Buried Alive   \n143  I Put 100 Million Orbeez In My Friend's    \n28         Press This Button To Win $100,000!   \n57   Anything You Can Fit In The Circle I’ll    \n82   Going Through The Same Drive Thru 1,000    \n58               I Ate A $70,000 Golden Pizza   \n124        I Went Back To 1st Grade For A Day   \n39     Last To Leave $800,000 Island Keeps It   \n\n                                           description             published  \\\n1    MAKE SURE YOU WATCH UNTIL GLASS BRIDGE IT'S IN...  2021-11-24T21:00:01Z   \n48   i borderline went crazy about 30 hours in...\\n...  2020-05-30T20:10:08Z   \n17   This was the most insane thing I’ve ever done\\...  2021-03-27T20:00:04Z   \n143  THIS WAS THE CRAZIEST THING WE HAVE EVER DONE ...  2018-11-22T21:08:01Z   \n28   Push the red subscribe button and you could al...  2020-11-14T21:00:02Z   \n57   Watch until the end to see how much i spent\\nN...  2020-03-07T21:00:00Z   \n82   I can't believe we did this lol\\n\\nNew Merch -...  2019-10-05T20:00:08Z   \n58   I cant believe we actually did this...\\nPlease...  2020-02-29T21:00:22Z   \n124  me and the squad went back to first grade for ...  2019-01-31T22:05:00Z   \n39   I can't believe I gave away a private island. ...  2020-08-15T20:00:02Z   \n\n     tag_count  view_count  like_count  dislike_count  comment_count  \\\n1            0   169479533    11967970              0         565682   \n48           0   157356279     3092167              0         105889   \n17           0   153117349     5354269              0         233269   \n143          0   150718046     3953907              0         136295   \n28           0   143850164     2739765              0          83473   \n57           0   143843986     3708169              0         108555   \n82           0   137915561     3214323              0         124502   \n58           0   126315096     2832228              0         104237   \n124          0   118762603     2294154              0         134770   \n39           0   118685688     3704624              0         225751   \n\n     title_length  reactions  view_count_millions  \n1              33   13099334           169.479533  \n48             40    3303945           157.356279  \n17             29    5820807           153.117349  \n143            48    4226497           150.718046  \n28             34    2906711           143.850164  \n57             47    3925279           143.843986  \n82             45    3463327           137.915561  \n58             28    3040702           126.315096  \n124            34    2563694           118.762603  \n39             38    4156126           118.685688  ",
      "text/html": "<div>\n<style scoped>\n    .dataframe tbody tr th:only-of-type {\n        vertical-align: middle;\n    }\n\n    .dataframe tbody tr th {\n        vertical-align: top;\n    }\n\n    .dataframe thead th {\n        text-align: right;\n    }\n</style>\n<table border=\"1\" class=\"dataframe\">\n  <thead>\n    <tr style=\"text-align: right;\">\n      <th></th>\n      <th>title</th>\n      <th>description</th>\n      <th>published</th>\n      <th>tag_count</th>\n      <th>view_count</th>\n      <th>like_count</th>\n      <th>dislike_count</th>\n      <th>comment_count</th>\n      <th>title_length</th>\n      <th>reactions</th>\n      <th>view_count_millions</th>\n    </tr>\n  </thead>\n  <tbody>\n    <tr>\n      <th>1</th>\n      <td>$456,000 Squid Game In Real Life!</td>\n      <td>MAKE SURE YOU WATCH UNTIL GLASS BRIDGE IT'S IN...</td>\n      <td>2021-11-24T21:00:01Z</td>\n      <td>0</td>\n      <td>169479533</td>\n      <td>11967970</td>\n      <td>0</td>\n      <td>565682</td>\n      <td>33</td>\n      <td>13099334</td>\n      <td>169.479533</td>\n    </tr>\n    <tr>\n      <th>48</th>\n      <td>I Spent 50 Hours In Solitary Confinement</td>\n      <td>i borderline went crazy about 30 hours in...\\n...</td>\n      <td>2020-05-30T20:10:08Z</td>\n      <td>0</td>\n      <td>157356279</td>\n      <td>3092167</td>\n      <td>0</td>\n      <td>105889</td>\n      <td>40</td>\n      <td>3303945</td>\n      <td>157.356279</td>\n    </tr>\n    <tr>\n      <th>17</th>\n      <td>I Spent 50 Hours Buried Alive</td>\n      <td>This was the most insane thing I’ve ever done\\...</td>\n      <td>2021-03-27T20:00:04Z</td>\n      <td>0</td>\n      <td>153117349</td>\n      <td>5354269</td>\n      <td>0</td>\n      <td>233269</td>\n      <td>29</td>\n      <td>5820807</td>\n      <td>153.117349</td>\n    </tr>\n    <tr>\n      <th>143</th>\n      <td>I Put 100 Million Orbeez In My Friend's</td>\n      <td>THIS WAS THE CRAZIEST THING WE HAVE EVER DONE ...</td>\n      <td>2018-11-22T21:08:01Z</td>\n      <td>0</td>\n      <td>150718046</td>\n      <td>3953907</td>\n      <td>0</td>\n      <td>136295</td>\n      <td>48</td>\n      <td>4226497</td>\n      <td>150.718046</td>\n    </tr>\n    <tr>\n      <th>28</th>\n      <td>Press This Button To Win $100,000!</td>\n      <td>Push the red subscribe button and you could al...</td>\n      <td>2020-11-14T21:00:02Z</td>\n      <td>0</td>\n      <td>143850164</td>\n      <td>2739765</td>\n      <td>0</td>\n      <td>83473</td>\n      <td>34</td>\n      <td>2906711</td>\n      <td>143.850164</td>\n    </tr>\n    <tr>\n      <th>57</th>\n      <td>Anything You Can Fit In The Circle I’ll</td>\n      <td>Watch until the end to see how much i spent\\nN...</td>\n      <td>2020-03-07T21:00:00Z</td>\n      <td>0</td>\n      <td>143843986</td>\n      <td>3708169</td>\n      <td>0</td>\n      <td>108555</td>\n      <td>47</td>\n      <td>3925279</td>\n      <td>143.843986</td>\n    </tr>\n    <tr>\n      <th>82</th>\n      <td>Going Through The Same Drive Thru 1,000</td>\n      <td>I can't believe we did this lol\\n\\nNew Merch -...</td>\n      <td>2019-10-05T20:00:08Z</td>\n      <td>0</td>\n      <td>137915561</td>\n      <td>3214323</td>\n      <td>0</td>\n      <td>124502</td>\n      <td>45</td>\n      <td>3463327</td>\n      <td>137.915561</td>\n    </tr>\n    <tr>\n      <th>58</th>\n      <td>I Ate A $70,000 Golden Pizza</td>\n      <td>I cant believe we actually did this...\\nPlease...</td>\n      <td>2020-02-29T21:00:22Z</td>\n      <td>0</td>\n      <td>126315096</td>\n      <td>2832228</td>\n      <td>0</td>\n      <td>104237</td>\n      <td>28</td>\n      <td>3040702</td>\n      <td>126.315096</td>\n    </tr>\n    <tr>\n      <th>124</th>\n      <td>I Went Back To 1st Grade For A Day</td>\n      <td>me and the squad went back to first grade for ...</td>\n      <td>2019-01-31T22:05:00Z</td>\n      <td>0</td>\n      <td>118762603</td>\n      <td>2294154</td>\n      <td>0</td>\n      <td>134770</td>\n      <td>34</td>\n      <td>2563694</td>\n      <td>118.762603</td>\n    </tr>\n    <tr>\n      <th>39</th>\n      <td>Last To Leave $800,000 Island Keeps It</td>\n      <td>I can't believe I gave away a private island. ...</td>\n      <td>2020-08-15T20:00:02Z</td>\n      <td>0</td>\n      <td>118685688</td>\n      <td>3704624</td>\n      <td>0</td>\n      <td>225751</td>\n      <td>38</td>\n      <td>4156126</td>\n      <td>118.685688</td>\n    </tr>\n  </tbody>\n</table>\n</div>"
     },
     "metadata": {}
    }
   ]
  },
  {
   "cell_type": "code",
   "metadata": {
    "tags": [],
    "cell_id": "00017-48b32788-96e2-473d-b874-9fde54bf5004",
    "deepnote_to_be_reexecuted": false,
    "source_hash": "d50c5cff",
    "execution_start": 1639639166787,
    "execution_millis": 879,
    "deepnote_output_heights": [
     21.1875,
     134.5625
    ],
    "deepnote_cell_type": "code"
   },
   "source": "sns.set(rc={'figure.figsize':(20,5)})\nplot = sns.barplot(x=\"view_count_millions\", y=\"title\", data=df_highest_views, palette=\"bright\")\nplot.set(xlabel='Millions of Views', ylabel='')\nplot.set_title('Most Viewed Videos')",
   "execution_count": null,
   "outputs": [
    {
     "output_type": "execute_result",
     "execution_count": 18,
     "data": {
      "text/plain": "Text(0.5, 1.0, 'Most Viewed Videos')"
     },
     "metadata": {}
    },
    {
     "data": {
      "text/plain": "<Figure size 1440x360 with 1 Axes>",
      "image/png": "[encoded data removed]"
     },
     "metadata": {
      "image/png": {
       "width": 1380,
       "height": 338
      }
     },
     "output_type": "display_data"
    }
   ]
  },
  {
   "cell_type": "code",
   "metadata": {
    "tags": [],
    "cell_id": "00018-90a0288e-61c6-4de9-83f4-b136cf5ac815",
    "deepnote_to_be_reexecuted": false,
    "source_hash": "741b8a0d",
    "execution_start": 1639639167675,
    "execution_millis": 355,
    "deepnote_cell_type": "code"
   },
   "source": "# Most Interations ( Like + Dislikes + Comments)\ndf_highest_reactions = df.nlargest(10, 'reactions')\ndf_highest_reactions['title'] = df_highest_reactions['title'].str[:40]\ndf_highest_reactions['reactions'] = df_highest_reactions['reactions'] / 1000\ndf_highest_reactions",
   "execution_count": null,
   "outputs": [
    {
     "output_type": "execute_result",
     "execution_count": 19,
     "data": {
      "application/vnd.deepnote.dataframe.v3+json": {
       "column_count": 10,
       "row_count": 10,
       "columns": [
        {
         "name": "title",
         "dtype": "object",
         "stats": {
          "unique_count": 10,
          "nan_count": 0,
          "categories": [
           {
            "name": "Make This Video The Most Liked Video On ",
            "count": 1
           },
           {
            "name": "$456,000 Squid Game In Real Life!",
            "count": 1
           },
           {
            "name": "8 others",
            "count": 8
           }
          ]
         }
        },
        {
         "name": "description",
         "dtype": "object",
         "stats": {
          "unique_count": 10,
          "nan_count": 0,
          "categories": [
           {
            "name": "WHAT IS UP LOGANG, MAKE SURE YOU LIKE THE VIDEO AND WATCH TO THE END TO SEE WHO WON THE EGG OLYMPICS\nNew Merch - https://shopmrbeast.com/\n\nSMASH LIKE\n\nSUBSCRIBE OR I TAKE YOUR DOG\n\n\n----------------------------------------------------------------\n► FOLLOW BOTH THESE AND I WILL HAVE YOUR KIDS!\n• Twitter - https://twitter.com/MrBeastYT\n•  Instagram - https://www.instagram.com/mrbeast\n--------------------------------------------------------------------",
            "count": 1
           },
           {
            "name": "MAKE SURE YOU WATCH UNTIL GLASS BRIDGE IT'S INSANE!\nDownload Brawl Stars now and get a free gift from me in the game! http://supr.cl/mrbeast\n\n\nThank you GoPro for supplying us with cameras to get some of these shots. You can get them here: https://prf.hn/l/6bNbQB3\n\nShoutout to SOKRISPYMEDIA for helping with visuals!\n\n----------------------------------------------------------------\nfollow all of these or i will kick you\n• Facebook - https://www.facebook.com/MrBeast6000/\n• Twitter - https://twitter.com/MrBeast\n•  Instagram - https://www.instagram.com/mrbeast\n--------------------------------------------------------------------",
            "count": 1
           },
           {
            "name": "8 others",
            "count": 8
           }
          ]
         }
        },
        {
         "name": "published",
         "dtype": "object",
         "stats": {
          "unique_count": 10,
          "nan_count": 0,
          "categories": [
           {
            "name": "2019-01-16T22:05:01Z",
            "count": 1
           },
           {
            "name": "2021-11-24T21:00:01Z",
            "count": 1
           },
           {
            "name": "8 others",
            "count": 8
           }
          ]
         }
        },
        {
         "name": "tag_count",
         "dtype": "int64",
         "stats": {
          "unique_count": 1,
          "nan_count": 0,
          "min": "0",
          "max": "0",
          "histogram": [
           {
            "bin_start": -0.5,
            "bin_end": -0.4,
            "count": 0
           },
           {
            "bin_start": -0.4,
            "bin_end": -0.3,
            "count": 0
           },
           {
            "bin_start": -0.3,
            "bin_end": -0.19999999999999996,
            "count": 0
           },
           {
            "bin_start": -0.19999999999999996,
            "bin_end": -0.09999999999999998,
            "count": 0
           },
           {
            "bin_start": -0.09999999999999998,
            "bin_end": 0,
            "count": 0
           },
           {
            "bin_start": 0,
            "bin_end": 0.10000000000000009,
            "count": 10
           },
           {
            "bin_start": 0.10000000000000009,
            "bin_end": 0.20000000000000007,
            "count": 0
           },
           {
            "bin_start": 0.20000000000000007,
            "bin_end": 0.30000000000000004,
            "count": 0
           },
           {
            "bin_start": 0.30000000000000004,
            "bin_end": 0.4,
            "count": 0
           },
           {
            "bin_start": 0.4,
            "bin_end": 0.5,
            "count": 0
           }
          ]
         }
        },
        {
         "name": "view_count",
         "dtype": "int64",
         "stats": {
          "unique_count": 10,
          "nan_count": 0,
          "min": "51800966",
          "max": "169479533",
          "histogram": [
           {
            "bin_start": 51800966,
            "bin_end": 63568822.7,
            "count": 3
           },
           {
            "bin_start": 63568822.7,
            "bin_end": 75336679.4,
            "count": 0
           },
           {
            "bin_start": 75336679.4,
            "bin_end": 87104536.1,
            "count": 0
           },
           {
            "bin_start": 87104536.1,
            "bin_end": 98872392.8,
            "count": 3
           },
           {
            "bin_start": 98872392.8,
            "bin_end": 110640249.5,
            "count": 0
           },
           {
            "bin_start": 110640249.5,
            "bin_end": 122408106.19999999,
            "count": 1
           },
           {
            "bin_start": 122408106.19999999,
            "bin_end": 134175962.89999999,
            "count": 0
           },
           {
            "bin_start": 134175962.89999999,
            "bin_end": 145943819.6,
            "count": 0
           },
           {
            "bin_start": 145943819.6,
            "bin_end": 157711676.3,
            "count": 2
           },
           {
            "bin_start": 157711676.3,
            "bin_end": 169479533,
            "count": 1
           }
          ]
         }
        },
        {
         "name": "like_count",
         "dtype": "int64",
         "stats": {
          "unique_count": 10,
          "nan_count": 0,
          "min": "3510681",
          "max": "19019769",
          "histogram": [
           {
            "bin_start": 3510681,
            "bin_end": 5061589.8,
            "count": 7
           },
           {
            "bin_start": 5061589.8,
            "bin_end": 6612498.6,
            "count": 1
           },
           {
            "bin_start": 6612498.6,
            "bin_end": 8163407.4,
            "count": 0
           },
           {
            "bin_start": 8163407.4,
            "bin_end": 9714316.2,
            "count": 0
           },
           {
            "bin_start": 9714316.2,
            "bin_end": 11265225,
            "count": 0
           },
           {
            "bin_start": 11265225,
            "bin_end": 12816133.8,
            "count": 1
           },
           {
            "bin_start": 12816133.8,
            "bin_end": 14367042.6,
            "count": 0
           },
           {
            "bin_start": 14367042.6,
            "bin_end": 15917951.4,
            "count": 0
           },
           {
            "bin_start": 15917951.4,
            "bin_end": 17468860.200000003,
            "count": 0
           },
           {
            "bin_start": 17468860.200000003,
            "bin_end": 19019769,
            "count": 1
           }
          ]
         }
        },
        {
         "name": "dislike_count",
         "dtype": "int64",
         "stats": {
          "unique_count": 1,
          "nan_count": 0,
          "min": "0",
          "max": "0",
          "histogram": [
           {
            "bin_start": -0.5,
            "bin_end": -0.4,
            "count": 0
           },
           {
            "bin_start": -0.4,
            "bin_end": -0.3,
            "count": 0
           },
           {
            "bin_start": -0.3,
            "bin_end": -0.19999999999999996,
            "count": 0
           },
           {
            "bin_start": -0.19999999999999996,
            "bin_end": -0.09999999999999998,
            "count": 0
           },
           {
            "bin_start": -0.09999999999999998,
            "bin_end": 0,
            "count": 0
           },
           {
            "bin_start": 0,
            "bin_end": 0.10000000000000009,
            "count": 10
           },
           {
            "bin_start": 0.10000000000000009,
            "bin_end": 0.20000000000000007,
            "count": 0
           },
           {
            "bin_start": 0.20000000000000007,
            "bin_end": 0.30000000000000004,
            "count": 0
           },
           {
            "bin_start": 0.30000000000000004,
            "bin_end": 0.4,
            "count": 0
           },
           {
            "bin_start": 0.4,
            "bin_end": 0.5,
            "count": 0
           }
          ]
         }
        },
        {
         "name": "comment_count",
         "dtype": "int64",
         "stats": {
          "unique_count": 10,
          "nan_count": 0,
          "min": "136295",
          "max": "726619",
          "histogram": [
           {
            "bin_start": 136295,
            "bin_end": 195327.4,
            "count": 4
           },
           {
            "bin_start": 195327.4,
            "bin_end": 254359.8,
            "count": 2
           },
           {
            "bin_start": 254359.8,
            "bin_end": 313392.2,
            "count": 2
           },
           {
            "bin_start": 313392.2,
            "bin_end": 372424.6,
            "count": 0
           },
           {
            "bin_start": 372424.6,
            "bin_end": 431457,
            "count": 0
           },
           {
            "bin_start": 431457,
            "bin_end": 490489.4,
            "count": 0
           },
           {
            "bin_start": 490489.4,
            "bin_end": 549521.8,
            "count": 0
           },
           {
            "bin_start": 549521.8,
            "bin_end": 608554.2,
            "count": 1
           },
           {
            "bin_start": 608554.2,
            "bin_end": 667586.6,
            "count": 0
           },
           {
            "bin_start": 667586.6,
            "bin_end": 726619,
            "count": 1
           }
          ]
         }
        },
        {
         "name": "title_length",
         "dtype": "int64",
         "stats": {
          "unique_count": 9,
          "nan_count": 0,
          "min": "16",
          "max": "55",
          "histogram": [
           {
            "bin_start": 16,
            "bin_end": 19.9,
            "count": 1
           },
           {
            "bin_start": 19.9,
            "bin_end": 23.8,
            "count": 0
           },
           {
            "bin_start": 23.8,
            "bin_end": 27.7,
            "count": 0
           },
           {
            "bin_start": 27.7,
            "bin_end": 31.6,
            "count": 1
           },
           {
            "bin_start": 31.6,
            "bin_end": 35.5,
            "count": 1
           },
           {
            "bin_start": 35.5,
            "bin_end": 39.4,
            "count": 0
           },
           {
            "bin_start": 39.4,
            "bin_end": 43.3,
            "count": 1
           },
           {
            "bin_start": 43.3,
            "bin_end": 47.2,
            "count": 2
           },
           {
            "bin_start": 47.2,
            "bin_end": 51.1,
            "count": 3
           },
           {
            "bin_start": 51.1,
            "bin_end": 55,
            "count": 1
           }
          ]
         }
        },
        {
         "name": "reactions",
         "dtype": "float64",
         "stats": {
          "unique_count": 10,
          "nan_count": 0,
          "min": "4226.497",
          "max": "19573.931",
          "histogram": [
           {
            "bin_start": 4226.497,
            "bin_end": 5761.240400000001,
            "count": 7
           },
           {
            "bin_start": 5761.240400000001,
            "bin_end": 7295.9838,
            "count": 1
           },
           {
            "bin_start": 7295.9838,
            "bin_end": 8830.727200000001,
            "count": 0
           },
           {
            "bin_start": 8830.727200000001,
            "bin_end": 10365.4706,
            "count": 0
           },
           {
            "bin_start": 10365.4706,
            "bin_end": 11900.214,
            "count": 0
           },
           {
            "bin_start": 11900.214,
            "bin_end": 13434.9574,
            "count": 1
           },
           {
            "bin_start": 13434.9574,
            "bin_end": 14969.700800000002,
            "count": 0
           },
           {
            "bin_start": 14969.700800000002,
            "bin_end": 16504.4442,
            "count": 0
           },
           {
            "bin_start": 16504.4442,
            "bin_end": 18039.1876,
            "count": 0
           },
           {
            "bin_start": 18039.1876,
            "bin_end": 19573.931,
            "count": 1
           }
          ]
         }
        },
        {
         "name": "_deepnote_index_column",
         "dtype": "int64"
        }
       ],
       "rows": [
        {
         "title": "Make This Video The Most Liked Video On ",
         "description": "WHAT IS UP LOGANG, MAKE SURE YOU LIKE THE VIDEO AND WATCH TO THE END TO SEE WHO WON THE EGG OLYMPIC…",
         "published": "2019-01-16T22:05:01Z",
         "tag_count": 0,
         "view_count": 96370107,
         "like_count": 19019769,
         "dislike_count": 0,
         "comment_count": 277081,
         "title_length": 47,
         "reactions": 19573.931,
         "_deepnote_index_column": 127
        },
        {
         "title": "$456,000 Squid Game In Real Life!",
         "description": "MAKE SURE YOU WATCH UNTIL GLASS BRIDGE IT'S INSANE!\nDownload Brawl Stars now and get a free gift fr…",
         "published": "2021-11-24T21:00:01Z",
         "tag_count": 0,
         "view_count": 169479533,
         "like_count": 11967970,
         "dislike_count": 0,
         "comment_count": 565682,
         "title_length": 33,
         "reactions": 13099.334,
         "_deepnote_index_column": 1
        },
        {
         "title": "I Spent 50 Hours Buried Alive",
         "description": "This was the most insane thing I’ve ever done\nNew Merch - https://shopmrbeast.com/\n\nSUBSCRIBE OR I …",
         "published": "2021-03-27T20:00:04Z",
         "tag_count": 0,
         "view_count": 153117349,
         "like_count": 5354269,
         "dislike_count": 0,
         "comment_count": 233269,
         "title_length": 29,
         "reactions": 5820.807,
         "_deepnote_index_column": 17
        },
        {
         "title": "Youtube Rewind 2020, Thank God It's Over",
         "description": "This is what Youtube Rewind would look like if it was made by creators lol\nSUBSCRIBE TO THESE SMALL…",
         "published": "2021-01-01T21:00:03Z",
         "tag_count": 0,
         "view_count": 56949404,
         "like_count": 4701284,
         "dislike_count": 0,
         "comment_count": 297576,
         "title_length": 40,
         "reactions": 5296.436,
         "_deepnote_index_column": 23
        },
        {
         "title": "If You Click This Video I'll Give My Fri",
         "description": "Make sure you watch this video a bunch!\nNew Merch - https://shopmrbeast.com/\r\n\r\nSUBSCRIBE OR I TAKE…",
         "published": "2020-05-23T21:01:02Z",
         "tag_count": 0,
         "view_count": 115863999,
         "like_count": 4912170,
         "dislike_count": 0,
         "comment_count": 151398,
         "title_length": 49,
         "reactions": 5214.966,
         "_deepnote_index_column": 49
        },
        {
         "title": "I Opened A Restaurant That Pays You To E",
         "description": "Download our MrBeast Burger App and order food NOW!\nIOS - https://apps.apple.com/us/app/mrbeast-bur…",
         "published": "2020-12-19T22:00:03Z",
         "tag_count": 0,
         "view_count": 93201366,
         "like_count": 3510681,
         "dislike_count": 0,
         "comment_count": 726619,
         "title_length": 48,
         "reactions": 4963.919,
         "_deepnote_index_column": 25
        },
        {
         "title": "I Gave People $1,000,000 But ONLY 1 Minu",
         "description": "Subscribe right now and you might be picked to be in my next video! (its epic)\nNew Merch - https://…",
         "published": "2020-12-15T21:00:11Z",
         "tag_count": 0,
         "view_count": 91143938,
         "like_count": 4269267,
         "dislike_count": 0,
         "comment_count": 170627,
         "title_length": 55,
         "reactions": 4610.521,
         "_deepnote_index_column": 26
        },
        {
         "title": "I Cleaned The World’s Dirtiest Beach #Te",
         "description": "$1 Donated = 1 Pound Of Trash Out Of The Ocean -  https://teamseas.org/\nHELP US REMOVE 30,000,000 P…",
         "published": "2021-10-29T19:59:43Z",
         "tag_count": 0,
         "view_count": 51800966,
         "like_count": 4106358,
         "dislike_count": 0,
         "comment_count": 177236,
         "title_length": 46,
         "reactions": 4460.83,
         "_deepnote_index_column": 2
        },
        {
         "title": "Hi Me In 5 Years",
         "description": "This video was filmed 5 years ago \nYou better have a million subscribers!\n\nI added some clips from …",
         "published": "2020-10-04T20:00:54Z",
         "tag_count": 0,
         "view_count": 54294688,
         "like_count": 4015633,
         "dislike_count": 0,
         "comment_count": 202990,
         "title_length": 16,
         "reactions": 4421.613,
         "_deepnote_index_column": 33
        },
        {
         "title": "I Put 100 Million Orbeez In My Friend's ",
         "description": "THIS WAS THE CRAZIEST THING WE HAVE EVER DONE LOL\n\nNew Merch - https://shopmrbeast.com/\n\nSUBSCRIBE …",
         "published": "2018-11-22T21:08:01Z",
         "tag_count": 0,
         "view_count": 150718046,
         "like_count": 3953907,
         "dislike_count": 0,
         "comment_count": 136295,
         "title_length": 48,
         "reactions": 4226.497,
         "_deepnote_index_column": 143
        }
       ]
      },
      "text/plain": "                                        title  \\\n127  Make This Video The Most Liked Video On    \n1           $456,000 Squid Game In Real Life!   \n17              I Spent 50 Hours Buried Alive   \n23   Youtube Rewind 2020, Thank God It's Over   \n49   If You Click This Video I'll Give My Fri   \n25   I Opened A Restaurant That Pays You To E   \n26   I Gave People $1,000,000 But ONLY 1 Minu   \n2    I Cleaned The World’s Dirtiest Beach #Te   \n33                           Hi Me In 5 Years   \n143  I Put 100 Million Orbeez In My Friend's    \n\n                                           description             published  \\\n127  WHAT IS UP LOGANG, MAKE SURE YOU LIKE THE VIDE...  2019-01-16T22:05:01Z   \n1    MAKE SURE YOU WATCH UNTIL GLASS BRIDGE IT'S IN...  2021-11-24T21:00:01Z   \n17   This was the most insane thing I’ve ever done\\...  2021-03-27T20:00:04Z   \n23   This is what Youtube Rewind would look like if...  2021-01-01T21:00:03Z   \n49   Make sure you watch this video a bunch!\\nNew M...  2020-05-23T21:01:02Z   \n25   Download our MrBeast Burger App and order food...  2020-12-19T22:00:03Z   \n26   Subscribe right now and you might be picked to...  2020-12-15T21:00:11Z   \n2    $1 Donated = 1 Pound Of Trash Out Of The Ocean...  2021-10-29T19:59:43Z   \n33   This video was filmed 5 years ago \\nYou better...  2020-10-04T20:00:54Z   \n143  THIS WAS THE CRAZIEST THING WE HAVE EVER DONE ...  2018-11-22T21:08:01Z   \n\n     tag_count  view_count  like_count  dislike_count  comment_count  \\\n127          0    96370107    19019769              0         277081   \n1            0   169479533    11967970              0         565682   \n17           0   153117349     5354269              0         233269   \n23           0    56949404     4701284              0         297576   \n49           0   115863999     4912170              0         151398   \n25           0    93201366     3510681              0         726619   \n26           0    91143938     4269267              0         170627   \n2            0    51800966     4106358              0         177236   \n33           0    54294688     4015633              0         202990   \n143          0   150718046     3953907              0         136295   \n\n     title_length  reactions  \n127            47  19573.931  \n1              33  13099.334  \n17             29   5820.807  \n23             40   5296.436  \n49             49   5214.966  \n25             48   4963.919  \n26             55   4610.521  \n2              46   4460.830  \n33             16   4421.613  \n143            48   4226.497  ",
      "text/html": "<div>\n<style scoped>\n    .dataframe tbody tr th:only-of-type {\n        vertical-align: middle;\n    }\n\n    .dataframe tbody tr th {\n        vertical-align: top;\n    }\n\n    .dataframe thead th {\n        text-align: right;\n    }\n</style>\n<table border=\"1\" class=\"dataframe\">\n  <thead>\n    <tr style=\"text-align: right;\">\n      <th></th>\n      <th>title</th>\n      <th>description</th>\n      <th>published</th>\n      <th>tag_count</th>\n      <th>view_count</th>\n      <th>like_count</th>\n      <th>dislike_count</th>\n      <th>comment_count</th>\n      <th>title_length</th>\n      <th>reactions</th>\n    </tr>\n  </thead>\n  <tbody>\n    <tr>\n      <th>127</th>\n      <td>Make This Video The Most Liked Video On</td>\n      <td>WHAT IS UP LOGANG, MAKE SURE YOU LIKE THE VIDE...</td>\n      <td>2019-01-16T22:05:01Z</td>\n      <td>0</td>\n      <td>96370107</td>\n      <td>19019769</td>\n      <td>0</td>\n      <td>277081</td>\n      <td>47</td>\n      <td>19573.931</td>\n    </tr>\n    <tr>\n      <th>1</th>\n      <td>$456,000 Squid Game In Real Life!</td>\n      <td>MAKE SURE YOU WATCH UNTIL GLASS BRIDGE IT'S IN...</td>\n      <td>2021-11-24T21:00:01Z</td>\n      <td>0</td>\n      <td>169479533</td>\n      <td>11967970</td>\n      <td>0</td>\n      <td>565682</td>\n      <td>33</td>\n      <td>13099.334</td>\n    </tr>\n    <tr>\n      <th>17</th>\n      <td>I Spent 50 Hours Buried Alive</td>\n      <td>This was the most insane thing I’ve ever done\\...</td>\n      <td>2021-03-27T20:00:04Z</td>\n      <td>0</td>\n      <td>153117349</td>\n      <td>5354269</td>\n      <td>0</td>\n      <td>233269</td>\n      <td>29</td>\n      <td>5820.807</td>\n    </tr>\n    <tr>\n      <th>23</th>\n      <td>Youtube Rewind 2020, Thank God It's Over</td>\n      <td>This is what Youtube Rewind would look like if...</td>\n      <td>2021-01-01T21:00:03Z</td>\n      <td>0</td>\n      <td>56949404</td>\n      <td>4701284</td>\n      <td>0</td>\n      <td>297576</td>\n      <td>40</td>\n      <td>5296.436</td>\n    </tr>\n    <tr>\n      <th>49</th>\n      <td>If You Click This Video I'll Give My Fri</td>\n      <td>Make sure you watch this video a bunch!\\nNew M...</td>\n      <td>2020-05-23T21:01:02Z</td>\n      <td>0</td>\n      <td>115863999</td>\n      <td>4912170</td>\n      <td>0</td>\n      <td>151398</td>\n      <td>49</td>\n      <td>5214.966</td>\n    </tr>\n    <tr>\n      <th>25</th>\n      <td>I Opened A Restaurant That Pays You To E</td>\n      <td>Download our MrBeast Burger App and order food...</td>\n      <td>2020-12-19T22:00:03Z</td>\n      <td>0</td>\n      <td>93201366</td>\n      <td>3510681</td>\n      <td>0</td>\n      <td>726619</td>\n      <td>48</td>\n      <td>4963.919</td>\n    </tr>\n    <tr>\n      <th>26</th>\n      <td>I Gave People $1,000,000 But ONLY 1 Minu</td>\n      <td>Subscribe right now and you might be picked to...</td>\n      <td>2020-12-15T21:00:11Z</td>\n      <td>0</td>\n      <td>91143938</td>\n      <td>4269267</td>\n      <td>0</td>\n      <td>170627</td>\n      <td>55</td>\n      <td>4610.521</td>\n    </tr>\n    <tr>\n      <th>2</th>\n      <td>I Cleaned The World’s Dirtiest Beach #Te</td>\n      <td>$1 Donated = 1 Pound Of Trash Out Of The Ocean...</td>\n      <td>2021-10-29T19:59:43Z</td>\n      <td>0</td>\n      <td>51800966</td>\n      <td>4106358</td>\n      <td>0</td>\n      <td>177236</td>\n      <td>46</td>\n      <td>4460.830</td>\n    </tr>\n    <tr>\n      <th>33</th>\n      <td>Hi Me In 5 Years</td>\n      <td>This video was filmed 5 years ago \\nYou better...</td>\n      <td>2020-10-04T20:00:54Z</td>\n      <td>0</td>\n      <td>54294688</td>\n      <td>4015633</td>\n      <td>0</td>\n      <td>202990</td>\n      <td>16</td>\n      <td>4421.613</td>\n    </tr>\n    <tr>\n      <th>143</th>\n      <td>I Put 100 Million Orbeez In My Friend's</td>\n      <td>THIS WAS THE CRAZIEST THING WE HAVE EVER DONE ...</td>\n      <td>2018-11-22T21:08:01Z</td>\n      <td>0</td>\n      <td>150718046</td>\n      <td>3953907</td>\n      <td>0</td>\n      <td>136295</td>\n      <td>48</td>\n      <td>4226.497</td>\n    </tr>\n  </tbody>\n</table>\n</div>"
     },
     "metadata": {}
    }
   ]
  },
  {
   "cell_type": "code",
   "metadata": {
    "tags": [],
    "cell_id": "00019-e40befe0-debc-492a-93e7-32c4f8e5f198",
    "deepnote_to_be_reexecuted": false,
    "source_hash": "ad420212",
    "execution_start": 1639639167820,
    "execution_millis": 845,
    "deepnote_output_heights": [
     21.1875,
     277.21875
    ],
    "deepnote_cell_type": "code"
   },
   "source": "sns.set(rc={'figure.figsize':(20,5)})\nplot = sns.barplot(y=\"title\", x=\"reactions\", data=df_highest_reactions, palette=\"bright\")\nplot.set(xlabel='Thousands of Reactions', ylabel='')\nplt.xticks(rotation=45)\nplot.set_title('Most Video Reactions')",
   "execution_count": null,
   "outputs": [
    {
     "output_type": "execute_result",
     "execution_count": 20,
     "data": {
      "text/plain": "Text(0.5, 1.0, 'Most Video Reactions')"
     },
     "metadata": {}
    },
    {
     "data": {
      "text/plain": "<Figure size 1440x360 with 1 Axes>",
      "image/png": "[encoded data removed]"
     },
     "metadata": {
      "image/png": {
       "width": 1376,
       "height": 360
      }
     },
     "output_type": "display_data"
    }
   ]
  },
  {
   "cell_type": "code",
   "metadata": {
    "tags": [],
    "cell_id": "00020-66e0d1f2-bb59-493c-8485-a144fe9b3529",
    "deepnote_to_be_reexecuted": false,
    "source_hash": "54638c10",
    "execution_start": 1639639168677,
    "execution_millis": 131,
    "deepnote_cell_type": "code"
   },
   "source": "df_highest_disliked = df.nlargest(10, 'dislike_count')\ndf_highest_disliked['title'] = df_highest_disliked['title'].str[:40]\ndf_highest_disliked['dislike_count'] = df_highest_disliked['dislike_count'] / 1000\ndf_highest_disliked",
   "execution_count": null,
   "outputs": [
    {
     "output_type": "execute_result",
     "execution_count": 21,
     "data": {
      "application/vnd.deepnote.dataframe.v3+json": {
       "column_count": 10,
       "row_count": 10,
       "columns": [
        {
         "name": "title",
         "dtype": "object",
         "stats": {
          "unique_count": 10,
          "nan_count": 0,
          "categories": [
           {
            "name": "I Got Hunted By The Military",
            "count": 1
           },
           {
            "name": "$456,000 Squid Game In Real Life!",
            "count": 1
           },
           {
            "name": "8 others",
            "count": 8
           }
          ]
         }
        },
        {
         "name": "description",
         "dtype": "object",
         "stats": {
          "unique_count": 10,
          "nan_count": 0,
          "categories": [
           {
            "name": "I'm not sure how they drove over that... it wasnt supposed to happen\nSign up using code \"BEASTHUNT\" with current! https://current.com/beasthunt\n\n\nNew Merch - https://shopmrbeast.com/\n\nSUBSCRIBE OR I TAKE YOUR DOG\n╔═╦╗╔╦╗╔═╦═╦╦╦╦╗╔═╗\n║╚╣║║║╚╣╚╣╔╣╔╣║╚╣═╣ \n╠╗║╚╝║║╠╗║╚╣║║║║║═╣\n╚═╩══╩═╩═╩═╩╝╚╩═╩═╝\n\nCongrats to all the winners from the last video!\n~babystar22\n~KevinAllen30\n~MasonCunningham2020\n~CheyniaWilson\n~Dannyboiiii08\n~Andresiux23\n~AmandaLawrence6\n~DonshaeHannah\n~KirstenTeafatiller\n~UndeadWiccan\n~BenjaminPaz\n~TylerSmith98\n~JoseRangel11\n~StorieDaise\n~AlexiaClark1462\n~MattyRivers\n~onlymarkis\n~ThomasWebster00\n~NoahTribbleking\n~JHix87252\n~AntSmith1996\n~AnthonyNino3\n~JordanMetz\n~xonviejade\n~CMcCabe23\n~Vonnny\n~ROITDABBY\n~PaulMeehan430\n~MaximusButenko\n~MaximusButenko\n~ZacharyArmstead\n~HunterLeitch\n~ThornTheriot\n~AliMakki\n~Quann99\n~Trawjr\n~JohnNovits\n~MCCARVES\n~KazzVaz\n~JenniJones400\n~RaeZapien\n~MrJazzy\n~SageDelahousie\n\n----------------------------------------------------------------\nfollow all of these or i will kick you\n• Facebook - https://www.facebook.com/MrBeast6000/\n• Twitter - https://twitter.com/MrBeast\n•  Instagram - https://www.instagram.com/mrbeast\n--------------------------------------------------------------------",
            "count": 1
           },
           {
            "name": "MAKE SURE YOU WATCH UNTIL GLASS BRIDGE IT'S INSANE!\nDownload Brawl Stars now and get a free gift from me in the game! http://supr.cl/mrbeast\n\n\nThank you GoPro for supplying us with cameras to get some of these shots. You can get them here: https://prf.hn/l/6bNbQB3\n\nShoutout to SOKRISPYMEDIA for helping with visuals!\n\n----------------------------------------------------------------\nfollow all of these or i will kick you\n• Facebook - https://www.facebook.com/MrBeast6000/\n• Twitter - https://twitter.com/MrBeast\n•  Instagram - https://www.instagram.com/mrbeast\n--------------------------------------------------------------------",
            "count": 1
           },
           {
            "name": "8 others",
            "count": 8
           }
          ]
         }
        },
        {
         "name": "published",
         "dtype": "object",
         "stats": {
          "unique_count": 10,
          "nan_count": 0,
          "categories": [
           {
            "name": "2021-12-10T21:30:02Z",
            "count": 1
           },
           {
            "name": "2021-11-24T21:00:01Z",
            "count": 1
           },
           {
            "name": "8 others",
            "count": 8
           }
          ]
         }
        },
        {
         "name": "tag_count",
         "dtype": "int64",
         "stats": {
          "unique_count": 1,
          "nan_count": 0,
          "min": "0",
          "max": "0",
          "histogram": [
           {
            "bin_start": -0.5,
            "bin_end": -0.4,
            "count": 0
           },
           {
            "bin_start": -0.4,
            "bin_end": -0.3,
            "count": 0
           },
           {
            "bin_start": -0.3,
            "bin_end": -0.19999999999999996,
            "count": 0
           },
           {
            "bin_start": -0.19999999999999996,
            "bin_end": -0.09999999999999998,
            "count": 0
           },
           {
            "bin_start": -0.09999999999999998,
            "bin_end": 0,
            "count": 0
           },
           {
            "bin_start": 0,
            "bin_end": 0.10000000000000009,
            "count": 10
           },
           {
            "bin_start": 0.10000000000000009,
            "bin_end": 0.20000000000000007,
            "count": 0
           },
           {
            "bin_start": 0.20000000000000007,
            "bin_end": 0.30000000000000004,
            "count": 0
           },
           {
            "bin_start": 0.30000000000000004,
            "bin_end": 0.4,
            "count": 0
           },
           {
            "bin_start": 0.4,
            "bin_end": 0.5,
            "count": 0
           }
          ]
         }
        },
        {
         "name": "view_count",
         "dtype": "int64",
         "stats": {
          "unique_count": 10,
          "nan_count": 0,
          "min": "37451638",
          "max": "169479533",
          "histogram": [
           {
            "bin_start": 37451638,
            "bin_end": 50654427.5,
            "count": 2
           },
           {
            "bin_start": 50654427.5,
            "bin_end": 63857217,
            "count": 5
           },
           {
            "bin_start": 63857217,
            "bin_end": 77060006.5,
            "count": 1
           },
           {
            "bin_start": 77060006.5,
            "bin_end": 90262796,
            "count": 0
           },
           {
            "bin_start": 90262796,
            "bin_end": 103465585.5,
            "count": 1
           },
           {
            "bin_start": 103465585.5,
            "bin_end": 116668375,
            "count": 0
           },
           {
            "bin_start": 116668375,
            "bin_end": 129871164.5,
            "count": 0
           },
           {
            "bin_start": 129871164.5,
            "bin_end": 143073954,
            "count": 0
           },
           {
            "bin_start": 143073954,
            "bin_end": 156276743.5,
            "count": 0
           },
           {
            "bin_start": 156276743.5,
            "bin_end": 169479533,
            "count": 1
           }
          ]
         }
        },
        {
         "name": "like_count",
         "dtype": "int64",
         "stats": {
          "unique_count": 10,
          "nan_count": 0,
          "min": "1980422",
          "max": "11967970",
          "histogram": [
           {
            "bin_start": 1980422,
            "bin_end": 2979176.8,
            "count": 7
           },
           {
            "bin_start": 2979176.8,
            "bin_end": 3977931.6,
            "count": 1
           },
           {
            "bin_start": 3977931.6,
            "bin_end": 4976686.4,
            "count": 1
           },
           {
            "bin_start": 4976686.4,
            "bin_end": 5975441.2,
            "count": 0
           },
           {
            "bin_start": 5975441.2,
            "bin_end": 6974196,
            "count": 0
           },
           {
            "bin_start": 6974196,
            "bin_end": 7972950.800000001,
            "count": 0
           },
           {
            "bin_start": 7972950.800000001,
            "bin_end": 8971705.600000001,
            "count": 0
           },
           {
            "bin_start": 8971705.600000001,
            "bin_end": 9970460.4,
            "count": 0
           },
           {
            "bin_start": 9970460.4,
            "bin_end": 10969215.200000001,
            "count": 0
           },
           {
            "bin_start": 10969215.200000001,
            "bin_end": 11967970,
            "count": 1
           }
          ]
         }
        },
        {
         "name": "dislike_count",
         "dtype": "float64",
         "stats": {
          "unique_count": 1,
          "nan_count": 0,
          "min": "0.0",
          "max": "0.0",
          "histogram": [
           {
            "bin_start": -0.5,
            "bin_end": -0.4,
            "count": 0
           },
           {
            "bin_start": -0.4,
            "bin_end": -0.3,
            "count": 0
           },
           {
            "bin_start": -0.3,
            "bin_end": -0.19999999999999996,
            "count": 0
           },
           {
            "bin_start": -0.19999999999999996,
            "bin_end": -0.09999999999999998,
            "count": 0
           },
           {
            "bin_start": -0.09999999999999998,
            "bin_end": 0,
            "count": 0
           },
           {
            "bin_start": 0,
            "bin_end": 0.10000000000000009,
            "count": 10
           },
           {
            "bin_start": 0.10000000000000009,
            "bin_end": 0.20000000000000007,
            "count": 0
           },
           {
            "bin_start": 0.20000000000000007,
            "bin_end": 0.30000000000000004,
            "count": 0
           },
           {
            "bin_start": 0.30000000000000004,
            "bin_end": 0.4,
            "count": 0
           },
           {
            "bin_start": 0.4,
            "bin_end": 0.5,
            "count": 0
           }
          ]
         }
        },
        {
         "name": "comment_count",
         "dtype": "int64",
         "stats": {
          "unique_count": 10,
          "nan_count": 0,
          "min": "67710",
          "max": "565682",
          "histogram": [
           {
            "bin_start": 67710,
            "bin_end": 117507.2,
            "count": 7
           },
           {
            "bin_start": 117507.2,
            "bin_end": 167304.4,
            "count": 1
           },
           {
            "bin_start": 167304.4,
            "bin_end": 217101.59999999998,
            "count": 1
           },
           {
            "bin_start": 217101.59999999998,
            "bin_end": 266898.8,
            "count": 0
           },
           {
            "bin_start": 266898.8,
            "bin_end": 316696,
            "count": 0
           },
           {
            "bin_start": 316696,
            "bin_end": 366493.19999999995,
            "count": 0
           },
           {
            "bin_start": 366493.19999999995,
            "bin_end": 416290.39999999997,
            "count": 0
           },
           {
            "bin_start": 416290.39999999997,
            "bin_end": 466087.6,
            "count": 0
           },
           {
            "bin_start": 466087.6,
            "bin_end": 515884.8,
            "count": 0
           },
           {
            "bin_start": 515884.8,
            "bin_end": 565682,
            "count": 1
           }
          ]
         }
        },
        {
         "name": "title_length",
         "dtype": "int64",
         "stats": {
          "unique_count": 10,
          "nan_count": 0,
          "min": "23",
          "max": "46",
          "histogram": [
           {
            "bin_start": 23,
            "bin_end": 25.3,
            "count": 1
           },
           {
            "bin_start": 25.3,
            "bin_end": 27.6,
            "count": 0
           },
           {
            "bin_start": 27.6,
            "bin_end": 29.9,
            "count": 2
           },
           {
            "bin_start": 29.9,
            "bin_end": 32.2,
            "count": 1
           },
           {
            "bin_start": 32.2,
            "bin_end": 34.5,
            "count": 2
           },
           {
            "bin_start": 34.5,
            "bin_end": 36.8,
            "count": 1
           },
           {
            "bin_start": 36.8,
            "bin_end": 39.099999999999994,
            "count": 0
           },
           {
            "bin_start": 39.099999999999994,
            "bin_end": 41.4,
            "count": 1
           },
           {
            "bin_start": 41.4,
            "bin_end": 43.7,
            "count": 1
           },
           {
            "bin_start": 43.7,
            "bin_end": 46,
            "count": 1
           }
          ]
         }
        },
        {
         "name": "reactions",
         "dtype": "int64",
         "stats": {
          "unique_count": 10,
          "nan_count": 0,
          "min": "2115842",
          "max": "13099334",
          "histogram": [
           {
            "bin_start": 2115842,
            "bin_end": 3214191.2,
            "count": 7
           },
           {
            "bin_start": 3214191.2,
            "bin_end": 4312540.4,
            "count": 1
           },
           {
            "bin_start": 4312540.4,
            "bin_end": 5410889.6,
            "count": 1
           },
           {
            "bin_start": 5410889.6,
            "bin_end": 6509238.8,
            "count": 0
           },
           {
            "bin_start": 6509238.8,
            "bin_end": 7607588,
            "count": 0
           },
           {
            "bin_start": 7607588,
            "bin_end": 8705937.2,
            "count": 0
           },
           {
            "bin_start": 8705937.2,
            "bin_end": 9804286.399999999,
            "count": 0
           },
           {
            "bin_start": 9804286.399999999,
            "bin_end": 10902635.6,
            "count": 0
           },
           {
            "bin_start": 10902635.6,
            "bin_end": 12000984.799999999,
            "count": 0
           },
           {
            "bin_start": 12000984.799999999,
            "bin_end": 13099334,
            "count": 1
           }
          ]
         }
        },
        {
         "name": "_deepnote_index_column",
         "dtype": "int64"
        }
       ],
       "rows": [
        {
         "title": "I Got Hunted By The Military",
         "description": "I'm not sure how they drove over that... it wasnt supposed to happen\nSign up using code \"BEASTHUNT\"…",
         "published": "2021-12-10T21:30:02Z",
         "tag_count": 0,
         "view_count": 37451638,
         "like_count": 2259710,
         "dislike_count": 0,
         "comment_count": 87868,
         "title_length": 28,
         "reactions": 2435446,
         "_deepnote_index_column": 0
        },
        {
         "title": "$456,000 Squid Game In Real Life!",
         "description": "MAKE SURE YOU WATCH UNTIL GLASS BRIDGE IT'S INSANE!\nDownload Brawl Stars now and get a free gift fr…",
         "published": "2021-11-24T21:00:01Z",
         "tag_count": 0,
         "view_count": 169479533,
         "like_count": 11967970,
         "dislike_count": 0,
         "comment_count": 565682,
         "title_length": 33,
         "reactions": 13099334,
         "_deepnote_index_column": 1
        },
        {
         "title": "I Cleaned The World’s Dirtiest Beach #Te",
         "description": "$1 Donated = 1 Pound Of Trash Out Of The Ocean -  https://teamseas.org/\nHELP US REMOVE 30,000,000 P…",
         "published": "2021-10-29T19:59:43Z",
         "tag_count": 0,
         "view_count": 51800966,
         "like_count": 4106358,
         "dislike_count": 0,
         "comment_count": 177236,
         "title_length": 46,
         "reactions": 4460830,
         "_deepnote_index_column": 2
        },
        {
         "title": "Last To Take Hand Off Lamborghini, Keeps",
         "description": "Subscribe if you want to compete!\nWatch My Documentary Now On Curiosity: \nhttp://curiositystream.co…",
         "published": "2021-10-23T20:00:01Z",
         "tag_count": 0,
         "view_count": 51412216,
         "like_count": 2607250,
         "dislike_count": 0,
         "comment_count": 115992,
         "title_length": 43,
         "reactions": 2839234,
         "_deepnote_index_column": 3
        },
        {
         "title": "First To Rob Bank Wins $100,000",
         "description": "I didnt think he would actually rob the bank...\nSign up for Current and use my code “BEASTBANK” to …",
         "published": "2021-09-26T20:00:06Z",
         "tag_count": 0,
         "view_count": 48602623,
         "like_count": 2331918,
         "dislike_count": 0,
         "comment_count": 120266,
         "title_length": 31,
         "reactions": 2572450,
         "_deepnote_index_column": 4
        },
        {
         "title": "Extreme $500,000 Game Of Tag!",
         "description": "I did not expect that to happen at the end...\nNew Merch - https://shopmrbeast.com/\n\nSUBSCRIBE OR I …",
         "published": "2021-09-04T20:00:07Z",
         "tag_count": 0,
         "view_count": 56505400,
         "like_count": 2751231,
         "dislike_count": 0,
         "comment_count": 99382,
         "title_length": 29,
         "reactions": 2949995,
         "_deepnote_index_column": 5
        },
        {
         "title": "Last To Leave Circle Wins $500,000",
         "description": "THIS WAS THE CRAZIEST THING IVE EVER DONE!\nGet $10 of Bitcoin when you join Coinbase using my code:…",
         "published": "2021-08-31T20:01:03Z",
         "tag_count": 0,
         "view_count": 92368613,
         "like_count": 3433729,
         "dislike_count": 0,
         "comment_count": 94117,
         "title_length": 34,
         "reactions": 3621963,
         "_deepnote_index_column": 6
        },
        {
         "title": "I Got Hunted By The FBI",
         "description": "You guys loved the bounty hunter video so we did it with the FBI, i hope you enjoy!\nGet $5 on Venmo…",
         "published": "2021-08-07T23:00:03Z",
         "tag_count": 0,
         "view_count": 70978783,
         "like_count": 2539948,
         "dislike_count": 0,
         "comment_count": 88883,
         "title_length": 23,
         "reactions": 2717714,
         "_deepnote_index_column": 7
        },
        {
         "title": "If You Can Carry $1,000,000 You Keep It!",
         "description": "Exclusive Merch Here - https://shopmrbeast.com/\nYOU HAVE 7 DAYS TO BUY THIS SHIRT AND YOUR NAME WIL…",
         "published": "2021-07-24T20:00:59Z",
         "tag_count": 0,
         "view_count": 58110161,
         "like_count": 1980422,
         "dislike_count": 0,
         "comment_count": 67710,
         "title_length": 40,
         "reactions": 2115842,
         "_deepnote_index_column": 8
        },
        {
         "title": "Would YOU Quit School For $100,000?",
         "description": "You won’t believe what they chose!\nNew Merch - https://shopmrbeast.com/\n\nSUBSCRIBE OR I TAKE YOUR D…",
         "published": "2021-07-10T20:00:09Z",
         "tag_count": 0,
         "view_count": 54550760,
         "like_count": 1991612,
         "dislike_count": 0,
         "comment_count": 78710,
         "title_length": 35,
         "reactions": 2149032,
         "_deepnote_index_column": 9
        }
       ]
      },
      "text/plain": "                                      title  \\\n0              I Got Hunted By The Military   \n1         $456,000 Squid Game In Real Life!   \n2  I Cleaned The World’s Dirtiest Beach #Te   \n3  Last To Take Hand Off Lamborghini, Keeps   \n4           First To Rob Bank Wins $100,000   \n5             Extreme $500,000 Game Of Tag!   \n6        Last To Leave Circle Wins $500,000   \n7                   I Got Hunted By The FBI   \n8  If You Can Carry $1,000,000 You Keep It!   \n9       Would YOU Quit School For $100,000?   \n\n                                         description             published  \\\n0  I'm not sure how they drove over that... it wa...  2021-12-10T21:30:02Z   \n1  MAKE SURE YOU WATCH UNTIL GLASS BRIDGE IT'S IN...  2021-11-24T21:00:01Z   \n2  $1 Donated = 1 Pound Of Trash Out Of The Ocean...  2021-10-29T19:59:43Z   \n3  Subscribe if you want to compete!\\nWatch My Do...  2021-10-23T20:00:01Z   \n4  I didnt think he would actually rob the bank.....  2021-09-26T20:00:06Z   \n5  I did not expect that to happen at the end...\\...  2021-09-04T20:00:07Z   \n6  THIS WAS THE CRAZIEST THING IVE EVER DONE!\\nGe...  2021-08-31T20:01:03Z   \n7  You guys loved the bounty hunter video so we d...  2021-08-07T23:00:03Z   \n8  Exclusive Merch Here - https://shopmrbeast.com...  2021-07-24T20:00:59Z   \n9  You won’t believe what they chose!\\nNew Merch ...  2021-07-10T20:00:09Z   \n\n   tag_count  view_count  like_count  dislike_count  comment_count  \\\n0          0    37451638     2259710            0.0          87868   \n1          0   169479533    11967970            0.0         565682   \n2          0    51800966     4106358            0.0         177236   \n3          0    51412216     2607250            0.0         115992   \n4          0    48602623     2331918            0.0         120266   \n5          0    56505400     2751231            0.0          99382   \n6          0    92368613     3433729            0.0          94117   \n7          0    70978783     2539948            0.0          88883   \n8          0    58110161     1980422            0.0          67710   \n9          0    54550760     1991612            0.0          78710   \n\n   title_length  reactions  \n0            28    2435446  \n1            33   13099334  \n2            46    4460830  \n3            43    2839234  \n4            31    2572450  \n5            29    2949995  \n6            34    3621963  \n7            23    2717714  \n8            40    2115842  \n9            35    2149032  ",
      "text/html": "<div>\n<style scoped>\n    .dataframe tbody tr th:only-of-type {\n        vertical-align: middle;\n    }\n\n    .dataframe tbody tr th {\n        vertical-align: top;\n    }\n\n    .dataframe thead th {\n        text-align: right;\n    }\n</style>\n<table border=\"1\" class=\"dataframe\">\n  <thead>\n    <tr style=\"text-align: right;\">\n      <th></th>\n      <th>title</th>\n      <th>description</th>\n      <th>published</th>\n      <th>tag_count</th>\n      <th>view_count</th>\n      <th>like_count</th>\n      <th>dislike_count</th>\n      <th>comment_count</th>\n      <th>title_length</th>\n      <th>reactions</th>\n    </tr>\n  </thead>\n  <tbody>\n    <tr>\n      <th>0</th>\n      <td>I Got Hunted By The Military</td>\n      <td>I'm not sure how they drove over that... it wa...</td>\n      <td>2021-12-10T21:30:02Z</td>\n      <td>0</td>\n      <td>37451638</td>\n      <td>2259710</td>\n      <td>0.0</td>\n      <td>87868</td>\n      <td>28</td>\n      <td>2435446</td>\n    </tr>\n    <tr>\n      <th>1</th>\n      <td>$456,000 Squid Game In Real Life!</td>\n      <td>MAKE SURE YOU WATCH UNTIL GLASS BRIDGE IT'S IN...</td>\n      <td>2021-11-24T21:00:01Z</td>\n      <td>0</td>\n      <td>169479533</td>\n      <td>11967970</td>\n      <td>0.0</td>\n      <td>565682</td>\n      <td>33</td>\n      <td>13099334</td>\n    </tr>\n    <tr>\n      <th>2</th>\n      <td>I Cleaned The World’s Dirtiest Beach #Te</td>\n      <td>$1 Donated = 1 Pound Of Trash Out Of The Ocean...</td>\n      <td>2021-10-29T19:59:43Z</td>\n      <td>0</td>\n      <td>51800966</td>\n      <td>4106358</td>\n      <td>0.0</td>\n      <td>177236</td>\n      <td>46</td>\n      <td>4460830</td>\n    </tr>\n    <tr>\n      <th>3</th>\n      <td>Last To Take Hand Off Lamborghini, Keeps</td>\n      <td>Subscribe if you want to compete!\\nWatch My Do...</td>\n      <td>2021-10-23T20:00:01Z</td>\n      <td>0</td>\n      <td>51412216</td>\n      <td>2607250</td>\n      <td>0.0</td>\n      <td>115992</td>\n      <td>43</td>\n      <td>2839234</td>\n    </tr>\n    <tr>\n      <th>4</th>\n      <td>First To Rob Bank Wins $100,000</td>\n      <td>I didnt think he would actually rob the bank.....</td>\n      <td>2021-09-26T20:00:06Z</td>\n      <td>0</td>\n      <td>48602623</td>\n      <td>2331918</td>\n      <td>0.0</td>\n      <td>120266</td>\n      <td>31</td>\n      <td>2572450</td>\n    </tr>\n    <tr>\n      <th>5</th>\n      <td>Extreme $500,000 Game Of Tag!</td>\n      <td>I did not expect that to happen at the end...\\...</td>\n      <td>2021-09-04T20:00:07Z</td>\n      <td>0</td>\n      <td>56505400</td>\n      <td>2751231</td>\n      <td>0.0</td>\n      <td>99382</td>\n      <td>29</td>\n      <td>2949995</td>\n    </tr>\n    <tr>\n      <th>6</th>\n      <td>Last To Leave Circle Wins $500,000</td>\n      <td>THIS WAS THE CRAZIEST THING IVE EVER DONE!\\nGe...</td>\n      <td>2021-08-31T20:01:03Z</td>\n      <td>0</td>\n      <td>92368613</td>\n      <td>3433729</td>\n      <td>0.0</td>\n      <td>94117</td>\n      <td>34</td>\n      <td>3621963</td>\n    </tr>\n    <tr>\n      <th>7</th>\n      <td>I Got Hunted By The FBI</td>\n      <td>You guys loved the bounty hunter video so we d...</td>\n      <td>2021-08-07T23:00:03Z</td>\n      <td>0</td>\n      <td>70978783</td>\n      <td>2539948</td>\n      <td>0.0</td>\n      <td>88883</td>\n      <td>23</td>\n      <td>2717714</td>\n    </tr>\n    <tr>\n      <th>8</th>\n      <td>If You Can Carry $1,000,000 You Keep It!</td>\n      <td>Exclusive Merch Here - https://shopmrbeast.com...</td>\n      <td>2021-07-24T20:00:59Z</td>\n      <td>0</td>\n      <td>58110161</td>\n      <td>1980422</td>\n      <td>0.0</td>\n      <td>67710</td>\n      <td>40</td>\n      <td>2115842</td>\n    </tr>\n    <tr>\n      <th>9</th>\n      <td>Would YOU Quit School For $100,000?</td>\n      <td>You won’t believe what they chose!\\nNew Merch ...</td>\n      <td>2021-07-10T20:00:09Z</td>\n      <td>0</td>\n      <td>54550760</td>\n      <td>1991612</td>\n      <td>0.0</td>\n      <td>78710</td>\n      <td>35</td>\n      <td>2149032</td>\n    </tr>\n  </tbody>\n</table>\n</div>"
     },
     "metadata": {}
    }
   ]
  },
  {
   "cell_type": "code",
   "metadata": {
    "tags": [],
    "cell_id": "00021-980d56e5-335b-4d13-97da-28d691288678",
    "deepnote_to_be_reexecuted": false,
    "source_hash": "1e0a701",
    "execution_start": 1639639168817,
    "execution_millis": 851,
    "deepnote_output_heights": [
     21.1875,
     265.1875
    ],
    "deepnote_cell_type": "code"
   },
   "source": "sns.set(rc={'figure.figsize':(20,5)})\nplot = sns.barplot(y=\"title\", x=\"dislike_count\", data=df_highest_disliked, palette=\"bright\")\nplot.set(xlabel='Thousands of Thumbs Down', ylabel='')\nplt.xticks(rotation=45)\nplot.set_title('Most Thumbed Down Videos')\nplt.xlim(10, 55)",
   "execution_count": null,
   "outputs": [
    {
     "output_type": "execute_result",
     "execution_count": 22,
     "data": {
      "text/plain": "(10.0, 55.0)"
     },
     "metadata": {}
    },
    {
     "data": {
      "text/plain": "<Figure size 1440x360 with 1 Axes>",
      "image/png": "[encoded data removed]"
     },
     "metadata": {
      "image/png": {
       "width": 1379,
       "height": 345
      }
     },
     "output_type": "display_data"
    }
   ]
  },
  {
   "cell_type": "code",
   "metadata": {
    "tags": [],
    "cell_id": "00022-89cd8e33-02d1-4e1c-98bb-b0e65c8f5f34",
    "deepnote_to_be_reexecuted": false,
    "source_hash": "b623e53d",
    "execution_start": 1639639169692,
    "execution_millis": 1,
    "deepnote_cell_type": "code"
   },
   "source": "",
   "execution_count": null,
   "outputs": []
  },
  {
   "cell_type": "markdown",
   "source": "<a style='text-decoration:none;line-height:16px;display:flex;color:#5B5B62;padding:10px;justify-content:end;' href='https://deepnote.com?utm_source=created-in-deepnote-cell&projectId=b3649ae3-bbe0-4ba6-a095-6de0978072f0' target=\"_blank\">\n<img alt='Created in deepnote.com' style='display:inline;max-height:16px;margin:0px;margin-right:7.5px;' src='data:image/svg+xml;base64,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' > </img>\nCreated in <span style='font-weight:600;margin-left:4px;'>Deepnote</span></a>",
   "metadata": {
    "tags": [],
    "created_in_deepnote_cell": true,
    "deepnote_cell_type": "markdown"
   }
  }
 ],
 "nbformat": 4,
 "nbformat_minor": 2,
 "metadata": {
  "orig_nbformat": 2,
  "deepnote": {
   "is_reactive": false
  },
  "deepnote_notebook_id": "561ad618-b6b0-45d0-91d4-d8023bf26ab1",
  "deepnote_execution_queue": []
 }
}